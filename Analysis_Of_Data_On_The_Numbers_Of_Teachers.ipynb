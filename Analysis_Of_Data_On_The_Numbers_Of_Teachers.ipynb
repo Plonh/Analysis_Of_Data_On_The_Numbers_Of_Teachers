{
 "cells": [
  {
   "cell_type": "code",
   "execution_count": 1,
   "id": "7062a6b4-ef86-4c7c-9222-90f80267ec42",
   "metadata": {},
   "outputs": [],
   "source": [
    "#install plotly library"
   ]
  },
  {
   "cell_type": "code",
   "execution_count": 2,
   "id": "94b71a1f-7aeb-49aa-94b2-d16990fc732b",
   "metadata": {},
   "outputs": [
    {
     "name": "stdout",
     "output_type": "stream",
     "text": [
      "Requirement already satisfied: plotly in c:\\users\\alqah\\anaconda3\\lib\\site-packages (5.9.0)\n",
      "Requirement already satisfied: tenacity>=6.2.0 in c:\\users\\alqah\\anaconda3\\lib\\site-packages (from plotly) (8.2.2)\n",
      "Note: you may need to restart the kernel to use updated packages.\n"
     ]
    }
   ],
   "source": [
    "pip install plotly "
   ]
  },
  {
   "cell_type": "markdown",
   "id": "dfa4530b-1cea-4a89-904c-e31f27d38d55",
   "metadata": {},
   "source": [
    "#Data Loading and Initial Exploration\n",
    "\n",
    "     |\n",
    "     |\n",
    "     -\n",
    "     V"
   ]
  },
  {
   "cell_type": "code",
   "execution_count": 3,
   "id": "6aeb2693-9820-41fc-b485-fa5d3ad4a602",
   "metadata": {},
   "outputs": [],
   "source": [
    "import plotly.express as px\n",
    "import pandas as pd"
   ]
  },
  {
   "cell_type": "markdown",
   "id": "c55b59cc-eab7-40b2-878d-e0a5ec4c8245",
   "metadata": {},
   "source": [
    "#Data Loading"
   ]
  },
  {
   "cell_type": "code",
   "execution_count": 4,
   "id": "e387c66e-0d34-4284-968a-595ff8354966",
   "metadata": {},
   "outputs": [],
   "source": [
    "df = pd.read_csv(r\"C:\\Users\\alqah\\OneDrive\\Desktop\\my fiale\\Week 3\\Project 3\\number-of-teachers-by-region-1437-1440.csv\")"
   ]
  },
  {
   "cell_type": "code",
   "execution_count": 5,
   "id": "33c4002d-1e46-4095-999c-ac52c9a85607",
   "metadata": {},
   "outputs": [
    {
     "data": {
      "text/html": [
       "<div>\n",
       "<style scoped>\n",
       "    .dataframe tbody tr th:only-of-type {\n",
       "        vertical-align: middle;\n",
       "    }\n",
       "\n",
       "    .dataframe tbody tr th {\n",
       "        vertical-align: top;\n",
       "    }\n",
       "\n",
       "    .dataframe thead th {\n",
       "        text-align: right;\n",
       "    }\n",
       "</style>\n",
       "<table border=\"1\" class=\"dataframe\">\n",
       "  <thead>\n",
       "    <tr style=\"text-align: right;\">\n",
       "      <th></th>\n",
       "      <th>id</th>\n",
       "      <th>المنطقة الإدارية</th>\n",
       "      <th>المرحلة</th>\n",
       "      <th>السلطة</th>\n",
       "      <th>مكتب التربية</th>\n",
       "      <th>الجنس</th>\n",
       "      <th>نوع المدرسة</th>\n",
       "      <th>نوع التعليم</th>\n",
       "      <th>نظام الدراسة</th>\n",
       "      <th>معلم سعودي</th>\n",
       "      <th>معلم غير سعودي</th>\n",
       "      <th>معلمين جملة</th>\n",
       "      <th>السنة</th>\n",
       "    </tr>\n",
       "  </thead>\n",
       "  <tbody>\n",
       "    <tr>\n",
       "      <th>0</th>\n",
       "      <td>1.0</td>\n",
       "      <td>حائل</td>\n",
       "      <td>التربية الخاصة</td>\n",
       "      <td>حكومي</td>\n",
       "      <td>مكتب التربية والتعليم بالشمال</td>\n",
       "      <td>بنين</td>\n",
       "      <td>تربية خاصة</td>\n",
       "      <td>تربية خاصة</td>\n",
       "      <td>عام</td>\n",
       "      <td>4.0</td>\n",
       "      <td>0.0</td>\n",
       "      <td>4.0</td>\n",
       "      <td>1437.0</td>\n",
       "    </tr>\n",
       "    <tr>\n",
       "      <th>1</th>\n",
       "      <td>2.0</td>\n",
       "      <td>مكة المكرمة</td>\n",
       "      <td>المرحلة المتوسطة</td>\n",
       "      <td>حكومي</td>\n",
       "      <td>مكتب التربية والتعليم جنوب مكة المكرمة</td>\n",
       "      <td>بنات</td>\n",
       "      <td>نهاري</td>\n",
       "      <td>تعليم عام</td>\n",
       "      <td>عام</td>\n",
       "      <td>17.0</td>\n",
       "      <td>0.0</td>\n",
       "      <td>17.0</td>\n",
       "      <td>1437.0</td>\n",
       "    </tr>\n",
       "    <tr>\n",
       "      <th>2</th>\n",
       "      <td>3.0</td>\n",
       "      <td>مكة المكرمة</td>\n",
       "      <td>التربية الخاصة</td>\n",
       "      <td>حكومي</td>\n",
       "      <td>القنفذة</td>\n",
       "      <td>بنين</td>\n",
       "      <td>تربية خاصة</td>\n",
       "      <td>تربية خاصة</td>\n",
       "      <td>عام</td>\n",
       "      <td>6.0</td>\n",
       "      <td>0.0</td>\n",
       "      <td>6.0</td>\n",
       "      <td>1437.0</td>\n",
       "    </tr>\n",
       "    <tr>\n",
       "      <th>3</th>\n",
       "      <td>4.0</td>\n",
       "      <td>عسير</td>\n",
       "      <td>التربية الخاصة</td>\n",
       "      <td>حكومي</td>\n",
       "      <td>محايل</td>\n",
       "      <td>بنات</td>\n",
       "      <td>تربية خاصة</td>\n",
       "      <td>تربية خاصة</td>\n",
       "      <td>عام</td>\n",
       "      <td>1.0</td>\n",
       "      <td>0.0</td>\n",
       "      <td>1.0</td>\n",
       "      <td>1437.0</td>\n",
       "    </tr>\n",
       "    <tr>\n",
       "      <th>4</th>\n",
       "      <td>5.0</td>\n",
       "      <td>مكة المكرمة</td>\n",
       "      <td>التربية الخاصة</td>\n",
       "      <td>حكومي</td>\n",
       "      <td>القنفذة</td>\n",
       "      <td>بنين</td>\n",
       "      <td>تربية خاصة</td>\n",
       "      <td>تربية خاصة</td>\n",
       "      <td>عام</td>\n",
       "      <td>1.0</td>\n",
       "      <td>0.0</td>\n",
       "      <td>1.0</td>\n",
       "      <td>1437.0</td>\n",
       "    </tr>\n",
       "    <tr>\n",
       "      <th>...</th>\n",
       "      <td>...</td>\n",
       "      <td>...</td>\n",
       "      <td>...</td>\n",
       "      <td>...</td>\n",
       "      <td>...</td>\n",
       "      <td>...</td>\n",
       "      <td>...</td>\n",
       "      <td>...</td>\n",
       "      <td>...</td>\n",
       "      <td>...</td>\n",
       "      <td>...</td>\n",
       "      <td>...</td>\n",
       "      <td>...</td>\n",
       "    </tr>\n",
       "    <tr>\n",
       "      <th>140433</th>\n",
       "      <td>140434.0</td>\n",
       "      <td>الجوف</td>\n",
       "      <td>المرحلة الثانوية</td>\n",
       "      <td>أهلي</td>\n",
       "      <td>إدارة الإشراف التربوي</td>\n",
       "      <td>بنين</td>\n",
       "      <td>نهاري</td>\n",
       "      <td>تعليم عام</td>\n",
       "      <td>مقررات</td>\n",
       "      <td>1.0</td>\n",
       "      <td>0.0</td>\n",
       "      <td>1.0</td>\n",
       "      <td>1440.0</td>\n",
       "    </tr>\n",
       "    <tr>\n",
       "      <th>140434</th>\n",
       "      <td>140435.0</td>\n",
       "      <td>الجوف</td>\n",
       "      <td>المرحلة الثانوية</td>\n",
       "      <td>حكومي</td>\n",
       "      <td>إدارة الإشراف التربوي</td>\n",
       "      <td>بنين</td>\n",
       "      <td>نهاري</td>\n",
       "      <td>تعليم عام</td>\n",
       "      <td>مقررات</td>\n",
       "      <td>1.0</td>\n",
       "      <td>0.0</td>\n",
       "      <td>1.0</td>\n",
       "      <td>1440.0</td>\n",
       "    </tr>\n",
       "    <tr>\n",
       "      <th>140435</th>\n",
       "      <td>140436.0</td>\n",
       "      <td>مكة المكرمة</td>\n",
       "      <td>المرحلة الثانوية</td>\n",
       "      <td>حكومي</td>\n",
       "      <td>مكتب التعليم غرب مكة المكرمة</td>\n",
       "      <td>بنات</td>\n",
       "      <td>نهاري</td>\n",
       "      <td>تعليم عام</td>\n",
       "      <td>مقررات</td>\n",
       "      <td>44.0</td>\n",
       "      <td>0.0</td>\n",
       "      <td>44.0</td>\n",
       "      <td>1440.0</td>\n",
       "    </tr>\n",
       "    <tr>\n",
       "      <th>140436</th>\n",
       "      <td>140437.0</td>\n",
       "      <td>حائل</td>\n",
       "      <td>المرحلة الثانوية</td>\n",
       "      <td>حكومي</td>\n",
       "      <td>شرق حائل</td>\n",
       "      <td>بنات</td>\n",
       "      <td>نهاري</td>\n",
       "      <td>تعليم عام</td>\n",
       "      <td>مقررات</td>\n",
       "      <td>38.0</td>\n",
       "      <td>0.0</td>\n",
       "      <td>38.0</td>\n",
       "      <td>1440.0</td>\n",
       "    </tr>\n",
       "    <tr>\n",
       "      <th>140437</th>\n",
       "      <td>140438.0</td>\n",
       "      <td>الرياض</td>\n",
       "      <td>المرحلة الثانوية</td>\n",
       "      <td>حكومي</td>\n",
       "      <td>مكتب التعليم بالقويعية</td>\n",
       "      <td>بنات</td>\n",
       "      <td>نهاري</td>\n",
       "      <td>تعليم عام</td>\n",
       "      <td>مقررات</td>\n",
       "      <td>8.0</td>\n",
       "      <td>0.0</td>\n",
       "      <td>8.0</td>\n",
       "      <td>1440.0</td>\n",
       "    </tr>\n",
       "  </tbody>\n",
       "</table>\n",
       "<p>140438 rows × 13 columns</p>\n",
       "</div>"
      ],
      "text/plain": [
       "              id المنطقة الإدارية           المرحلة السلطة  \\\n",
       "0            1.0             حائل    التربية الخاصة  حكومي   \n",
       "1            2.0      مكة المكرمة  المرحلة المتوسطة  حكومي   \n",
       "2            3.0      مكة المكرمة    التربية الخاصة  حكومي   \n",
       "3            4.0             عسير    التربية الخاصة  حكومي   \n",
       "4            5.0      مكة المكرمة    التربية الخاصة  حكومي   \n",
       "...          ...              ...               ...    ...   \n",
       "140433  140434.0            الجوف  المرحلة الثانوية   أهلي   \n",
       "140434  140435.0            الجوف  المرحلة الثانوية  حكومي   \n",
       "140435  140436.0      مكة المكرمة  المرحلة الثانوية  حكومي   \n",
       "140436  140437.0             حائل  المرحلة الثانوية  حكومي   \n",
       "140437  140438.0           الرياض  المرحلة الثانوية  حكومي   \n",
       "\n",
       "                                  مكتب التربية الجنس نوع المدرسة نوع التعليم  \\\n",
       "0                مكتب التربية والتعليم بالشمال  بنين  تربية خاصة  تربية خاصة   \n",
       "1       مكتب التربية والتعليم جنوب مكة المكرمة  بنات       نهاري  تعليم عام    \n",
       "2                                      القنفذة  بنين  تربية خاصة  تربية خاصة   \n",
       "3                                        محايل  بنات  تربية خاصة  تربية خاصة   \n",
       "4                                      القنفذة  بنين  تربية خاصة  تربية خاصة   \n",
       "...                                        ...   ...         ...         ...   \n",
       "140433                   إدارة الإشراف التربوي  بنين       نهاري  تعليم عام    \n",
       "140434                   إدارة الإشراف التربوي  بنين       نهاري  تعليم عام    \n",
       "140435            مكتب التعليم غرب مكة المكرمة  بنات       نهاري  تعليم عام    \n",
       "140436                                شرق حائل  بنات       نهاري  تعليم عام    \n",
       "140437                  مكتب التعليم بالقويعية  بنات       نهاري  تعليم عام    \n",
       "\n",
       "       نظام الدراسة  معلم سعودي  معلم غير سعودي  معلمين جملة   السنة  \n",
       "0               عام         4.0             0.0          4.0  1437.0  \n",
       "1               عام        17.0             0.0         17.0  1437.0  \n",
       "2               عام         6.0             0.0          6.0  1437.0  \n",
       "3               عام         1.0             0.0          1.0  1437.0  \n",
       "4               عام         1.0             0.0          1.0  1437.0  \n",
       "...             ...         ...             ...          ...     ...  \n",
       "140433       مقررات         1.0             0.0          1.0  1440.0  \n",
       "140434       مقررات         1.0             0.0          1.0  1440.0  \n",
       "140435       مقررات        44.0             0.0         44.0  1440.0  \n",
       "140436       مقررات        38.0             0.0         38.0  1440.0  \n",
       "140437       مقررات         8.0             0.0          8.0  1440.0  \n",
       "\n",
       "[140438 rows x 13 columns]"
      ]
     },
     "execution_count": 5,
     "metadata": {},
     "output_type": "execute_result"
    }
   ],
   "source": [
    "df"
   ]
  },
  {
   "cell_type": "markdown",
   "id": "2b1713ac-9f7b-4cb1-8bd1-e1f47221000a",
   "metadata": {},
   "source": [
    "#Change columns name from Arabic to English language\n",
    "\n",
    "     |\n",
    "     |\n",
    "     -\n",
    "     V"
   ]
  },
  {
   "cell_type": "code",
   "execution_count": 6,
   "id": "ec0ece30-da20-4a2d-9750-be2d0a0762c9",
   "metadata": {},
   "outputs": [],
   "source": [
    "new_columns = [ \"Id\" , \"AdminRegion\" , \"EducationLevel\" , \"Auyhiorty\" , \"EducationOffice\" , \"Gender\" , \"SchoolType\" , \"EducationType\" , \"SchoolSystem\" , \"SaudiTeacher\" , \"NonSaudiTeacher\" , \"TotalTeach\" , \"year\" ]"
   ]
  },
  {
   "cell_type": "code",
   "execution_count": 7,
   "id": "0dd567c6-500b-4f70-92e3-1de229ebc273",
   "metadata": {},
   "outputs": [],
   "source": [
    "df.columns = new_columns"
   ]
  },
  {
   "cell_type": "code",
   "execution_count": 8,
   "id": "6e586851-c395-49df-b031-01f6dbf7617c",
   "metadata": {},
   "outputs": [
    {
     "data": {
      "text/html": [
       "<div>\n",
       "<style scoped>\n",
       "    .dataframe tbody tr th:only-of-type {\n",
       "        vertical-align: middle;\n",
       "    }\n",
       "\n",
       "    .dataframe tbody tr th {\n",
       "        vertical-align: top;\n",
       "    }\n",
       "\n",
       "    .dataframe thead th {\n",
       "        text-align: right;\n",
       "    }\n",
       "</style>\n",
       "<table border=\"1\" class=\"dataframe\">\n",
       "  <thead>\n",
       "    <tr style=\"text-align: right;\">\n",
       "      <th></th>\n",
       "      <th>Id</th>\n",
       "      <th>AdminRegion</th>\n",
       "      <th>EducationLevel</th>\n",
       "      <th>Auyhiorty</th>\n",
       "      <th>EducationOffice</th>\n",
       "      <th>Gender</th>\n",
       "      <th>SchoolType</th>\n",
       "      <th>EducationType</th>\n",
       "      <th>SchoolSystem</th>\n",
       "      <th>SaudiTeacher</th>\n",
       "      <th>NonSaudiTeacher</th>\n",
       "      <th>TotalTeach</th>\n",
       "      <th>year</th>\n",
       "    </tr>\n",
       "  </thead>\n",
       "  <tbody>\n",
       "    <tr>\n",
       "      <th>0</th>\n",
       "      <td>1.0</td>\n",
       "      <td>حائل</td>\n",
       "      <td>التربية الخاصة</td>\n",
       "      <td>حكومي</td>\n",
       "      <td>مكتب التربية والتعليم بالشمال</td>\n",
       "      <td>بنين</td>\n",
       "      <td>تربية خاصة</td>\n",
       "      <td>تربية خاصة</td>\n",
       "      <td>عام</td>\n",
       "      <td>4.0</td>\n",
       "      <td>0.0</td>\n",
       "      <td>4.0</td>\n",
       "      <td>1437.0</td>\n",
       "    </tr>\n",
       "    <tr>\n",
       "      <th>1</th>\n",
       "      <td>2.0</td>\n",
       "      <td>مكة المكرمة</td>\n",
       "      <td>المرحلة المتوسطة</td>\n",
       "      <td>حكومي</td>\n",
       "      <td>مكتب التربية والتعليم جنوب مكة المكرمة</td>\n",
       "      <td>بنات</td>\n",
       "      <td>نهاري</td>\n",
       "      <td>تعليم عام</td>\n",
       "      <td>عام</td>\n",
       "      <td>17.0</td>\n",
       "      <td>0.0</td>\n",
       "      <td>17.0</td>\n",
       "      <td>1437.0</td>\n",
       "    </tr>\n",
       "    <tr>\n",
       "      <th>2</th>\n",
       "      <td>3.0</td>\n",
       "      <td>مكة المكرمة</td>\n",
       "      <td>التربية الخاصة</td>\n",
       "      <td>حكومي</td>\n",
       "      <td>القنفذة</td>\n",
       "      <td>بنين</td>\n",
       "      <td>تربية خاصة</td>\n",
       "      <td>تربية خاصة</td>\n",
       "      <td>عام</td>\n",
       "      <td>6.0</td>\n",
       "      <td>0.0</td>\n",
       "      <td>6.0</td>\n",
       "      <td>1437.0</td>\n",
       "    </tr>\n",
       "    <tr>\n",
       "      <th>3</th>\n",
       "      <td>4.0</td>\n",
       "      <td>عسير</td>\n",
       "      <td>التربية الخاصة</td>\n",
       "      <td>حكومي</td>\n",
       "      <td>محايل</td>\n",
       "      <td>بنات</td>\n",
       "      <td>تربية خاصة</td>\n",
       "      <td>تربية خاصة</td>\n",
       "      <td>عام</td>\n",
       "      <td>1.0</td>\n",
       "      <td>0.0</td>\n",
       "      <td>1.0</td>\n",
       "      <td>1437.0</td>\n",
       "    </tr>\n",
       "    <tr>\n",
       "      <th>4</th>\n",
       "      <td>5.0</td>\n",
       "      <td>مكة المكرمة</td>\n",
       "      <td>التربية الخاصة</td>\n",
       "      <td>حكومي</td>\n",
       "      <td>القنفذة</td>\n",
       "      <td>بنين</td>\n",
       "      <td>تربية خاصة</td>\n",
       "      <td>تربية خاصة</td>\n",
       "      <td>عام</td>\n",
       "      <td>1.0</td>\n",
       "      <td>0.0</td>\n",
       "      <td>1.0</td>\n",
       "      <td>1437.0</td>\n",
       "    </tr>\n",
       "    <tr>\n",
       "      <th>...</th>\n",
       "      <td>...</td>\n",
       "      <td>...</td>\n",
       "      <td>...</td>\n",
       "      <td>...</td>\n",
       "      <td>...</td>\n",
       "      <td>...</td>\n",
       "      <td>...</td>\n",
       "      <td>...</td>\n",
       "      <td>...</td>\n",
       "      <td>...</td>\n",
       "      <td>...</td>\n",
       "      <td>...</td>\n",
       "      <td>...</td>\n",
       "    </tr>\n",
       "    <tr>\n",
       "      <th>140433</th>\n",
       "      <td>140434.0</td>\n",
       "      <td>الجوف</td>\n",
       "      <td>المرحلة الثانوية</td>\n",
       "      <td>أهلي</td>\n",
       "      <td>إدارة الإشراف التربوي</td>\n",
       "      <td>بنين</td>\n",
       "      <td>نهاري</td>\n",
       "      <td>تعليم عام</td>\n",
       "      <td>مقررات</td>\n",
       "      <td>1.0</td>\n",
       "      <td>0.0</td>\n",
       "      <td>1.0</td>\n",
       "      <td>1440.0</td>\n",
       "    </tr>\n",
       "    <tr>\n",
       "      <th>140434</th>\n",
       "      <td>140435.0</td>\n",
       "      <td>الجوف</td>\n",
       "      <td>المرحلة الثانوية</td>\n",
       "      <td>حكومي</td>\n",
       "      <td>إدارة الإشراف التربوي</td>\n",
       "      <td>بنين</td>\n",
       "      <td>نهاري</td>\n",
       "      <td>تعليم عام</td>\n",
       "      <td>مقررات</td>\n",
       "      <td>1.0</td>\n",
       "      <td>0.0</td>\n",
       "      <td>1.0</td>\n",
       "      <td>1440.0</td>\n",
       "    </tr>\n",
       "    <tr>\n",
       "      <th>140435</th>\n",
       "      <td>140436.0</td>\n",
       "      <td>مكة المكرمة</td>\n",
       "      <td>المرحلة الثانوية</td>\n",
       "      <td>حكومي</td>\n",
       "      <td>مكتب التعليم غرب مكة المكرمة</td>\n",
       "      <td>بنات</td>\n",
       "      <td>نهاري</td>\n",
       "      <td>تعليم عام</td>\n",
       "      <td>مقررات</td>\n",
       "      <td>44.0</td>\n",
       "      <td>0.0</td>\n",
       "      <td>44.0</td>\n",
       "      <td>1440.0</td>\n",
       "    </tr>\n",
       "    <tr>\n",
       "      <th>140436</th>\n",
       "      <td>140437.0</td>\n",
       "      <td>حائل</td>\n",
       "      <td>المرحلة الثانوية</td>\n",
       "      <td>حكومي</td>\n",
       "      <td>شرق حائل</td>\n",
       "      <td>بنات</td>\n",
       "      <td>نهاري</td>\n",
       "      <td>تعليم عام</td>\n",
       "      <td>مقررات</td>\n",
       "      <td>38.0</td>\n",
       "      <td>0.0</td>\n",
       "      <td>38.0</td>\n",
       "      <td>1440.0</td>\n",
       "    </tr>\n",
       "    <tr>\n",
       "      <th>140437</th>\n",
       "      <td>140438.0</td>\n",
       "      <td>الرياض</td>\n",
       "      <td>المرحلة الثانوية</td>\n",
       "      <td>حكومي</td>\n",
       "      <td>مكتب التعليم بالقويعية</td>\n",
       "      <td>بنات</td>\n",
       "      <td>نهاري</td>\n",
       "      <td>تعليم عام</td>\n",
       "      <td>مقررات</td>\n",
       "      <td>8.0</td>\n",
       "      <td>0.0</td>\n",
       "      <td>8.0</td>\n",
       "      <td>1440.0</td>\n",
       "    </tr>\n",
       "  </tbody>\n",
       "</table>\n",
       "<p>140438 rows × 13 columns</p>\n",
       "</div>"
      ],
      "text/plain": [
       "              Id  AdminRegion    EducationLevel Auyhiorty  \\\n",
       "0            1.0         حائل    التربية الخاصة     حكومي   \n",
       "1            2.0  مكة المكرمة  المرحلة المتوسطة     حكومي   \n",
       "2            3.0  مكة المكرمة    التربية الخاصة     حكومي   \n",
       "3            4.0         عسير    التربية الخاصة     حكومي   \n",
       "4            5.0  مكة المكرمة    التربية الخاصة     حكومي   \n",
       "...          ...          ...               ...       ...   \n",
       "140433  140434.0        الجوف  المرحلة الثانوية      أهلي   \n",
       "140434  140435.0        الجوف  المرحلة الثانوية     حكومي   \n",
       "140435  140436.0  مكة المكرمة  المرحلة الثانوية     حكومي   \n",
       "140436  140437.0         حائل  المرحلة الثانوية     حكومي   \n",
       "140437  140438.0       الرياض  المرحلة الثانوية     حكومي   \n",
       "\n",
       "                               EducationOffice Gender  SchoolType  \\\n",
       "0                مكتب التربية والتعليم بالشمال   بنين  تربية خاصة   \n",
       "1       مكتب التربية والتعليم جنوب مكة المكرمة   بنات       نهاري   \n",
       "2                                      القنفذة   بنين  تربية خاصة   \n",
       "3                                        محايل   بنات  تربية خاصة   \n",
       "4                                      القنفذة   بنين  تربية خاصة   \n",
       "...                                        ...    ...         ...   \n",
       "140433                   إدارة الإشراف التربوي   بنين       نهاري   \n",
       "140434                   إدارة الإشراف التربوي   بنين       نهاري   \n",
       "140435            مكتب التعليم غرب مكة المكرمة   بنات       نهاري   \n",
       "140436                                شرق حائل   بنات       نهاري   \n",
       "140437                  مكتب التعليم بالقويعية   بنات       نهاري   \n",
       "\n",
       "       EducationType SchoolSystem  SaudiTeacher  NonSaudiTeacher  TotalTeach  \\\n",
       "0         تربية خاصة          عام           4.0              0.0         4.0   \n",
       "1         تعليم عام           عام          17.0              0.0        17.0   \n",
       "2         تربية خاصة          عام           6.0              0.0         6.0   \n",
       "3         تربية خاصة          عام           1.0              0.0         1.0   \n",
       "4         تربية خاصة          عام           1.0              0.0         1.0   \n",
       "...              ...          ...           ...              ...         ...   \n",
       "140433    تعليم عام        مقررات           1.0              0.0         1.0   \n",
       "140434    تعليم عام        مقررات           1.0              0.0         1.0   \n",
       "140435    تعليم عام        مقررات          44.0              0.0        44.0   \n",
       "140436    تعليم عام        مقررات          38.0              0.0        38.0   \n",
       "140437    تعليم عام        مقررات           8.0              0.0         8.0   \n",
       "\n",
       "          year  \n",
       "0       1437.0  \n",
       "1       1437.0  \n",
       "2       1437.0  \n",
       "3       1437.0  \n",
       "4       1437.0  \n",
       "...        ...  \n",
       "140433  1440.0  \n",
       "140434  1440.0  \n",
       "140435  1440.0  \n",
       "140436  1440.0  \n",
       "140437  1440.0  \n",
       "\n",
       "[140438 rows x 13 columns]"
      ]
     },
     "execution_count": 8,
     "metadata": {},
     "output_type": "execute_result"
    }
   ],
   "source": [
    "df"
   ]
  },
  {
   "cell_type": "markdown",
   "id": "edae9a46-823c-4e48-ac19-14ba314a0cc3",
   "metadata": {},
   "source": [
    "#Initial Exploration\n",
    "\n",
    "     |\n",
    "     |\n",
    "     -\n",
    "     V"
   ]
  },
  {
   "cell_type": "code",
   "execution_count": 9,
   "id": "a32e03e5-480f-4e78-9cd1-3cc0df12d26d",
   "metadata": {},
   "outputs": [
    {
     "data": {
      "text/html": [
       "<div>\n",
       "<style scoped>\n",
       "    .dataframe tbody tr th:only-of-type {\n",
       "        vertical-align: middle;\n",
       "    }\n",
       "\n",
       "    .dataframe tbody tr th {\n",
       "        vertical-align: top;\n",
       "    }\n",
       "\n",
       "    .dataframe thead th {\n",
       "        text-align: right;\n",
       "    }\n",
       "</style>\n",
       "<table border=\"1\" class=\"dataframe\">\n",
       "  <thead>\n",
       "    <tr style=\"text-align: right;\">\n",
       "      <th></th>\n",
       "      <th>Id</th>\n",
       "      <th>AdminRegion</th>\n",
       "      <th>EducationLevel</th>\n",
       "      <th>Auyhiorty</th>\n",
       "      <th>EducationOffice</th>\n",
       "      <th>Gender</th>\n",
       "      <th>SchoolType</th>\n",
       "      <th>EducationType</th>\n",
       "      <th>SchoolSystem</th>\n",
       "      <th>SaudiTeacher</th>\n",
       "      <th>NonSaudiTeacher</th>\n",
       "      <th>TotalTeach</th>\n",
       "      <th>year</th>\n",
       "    </tr>\n",
       "  </thead>\n",
       "  <tbody>\n",
       "    <tr>\n",
       "      <th>0</th>\n",
       "      <td>1.0</td>\n",
       "      <td>حائل</td>\n",
       "      <td>التربية الخاصة</td>\n",
       "      <td>حكومي</td>\n",
       "      <td>مكتب التربية والتعليم بالشمال</td>\n",
       "      <td>بنين</td>\n",
       "      <td>تربية خاصة</td>\n",
       "      <td>تربية خاصة</td>\n",
       "      <td>عام</td>\n",
       "      <td>4.0</td>\n",
       "      <td>0.0</td>\n",
       "      <td>4.0</td>\n",
       "      <td>1437.0</td>\n",
       "    </tr>\n",
       "    <tr>\n",
       "      <th>1</th>\n",
       "      <td>2.0</td>\n",
       "      <td>مكة المكرمة</td>\n",
       "      <td>المرحلة المتوسطة</td>\n",
       "      <td>حكومي</td>\n",
       "      <td>مكتب التربية والتعليم جنوب مكة المكرمة</td>\n",
       "      <td>بنات</td>\n",
       "      <td>نهاري</td>\n",
       "      <td>تعليم عام</td>\n",
       "      <td>عام</td>\n",
       "      <td>17.0</td>\n",
       "      <td>0.0</td>\n",
       "      <td>17.0</td>\n",
       "      <td>1437.0</td>\n",
       "    </tr>\n",
       "    <tr>\n",
       "      <th>2</th>\n",
       "      <td>3.0</td>\n",
       "      <td>مكة المكرمة</td>\n",
       "      <td>التربية الخاصة</td>\n",
       "      <td>حكومي</td>\n",
       "      <td>القنفذة</td>\n",
       "      <td>بنين</td>\n",
       "      <td>تربية خاصة</td>\n",
       "      <td>تربية خاصة</td>\n",
       "      <td>عام</td>\n",
       "      <td>6.0</td>\n",
       "      <td>0.0</td>\n",
       "      <td>6.0</td>\n",
       "      <td>1437.0</td>\n",
       "    </tr>\n",
       "    <tr>\n",
       "      <th>3</th>\n",
       "      <td>4.0</td>\n",
       "      <td>عسير</td>\n",
       "      <td>التربية الخاصة</td>\n",
       "      <td>حكومي</td>\n",
       "      <td>محايل</td>\n",
       "      <td>بنات</td>\n",
       "      <td>تربية خاصة</td>\n",
       "      <td>تربية خاصة</td>\n",
       "      <td>عام</td>\n",
       "      <td>1.0</td>\n",
       "      <td>0.0</td>\n",
       "      <td>1.0</td>\n",
       "      <td>1437.0</td>\n",
       "    </tr>\n",
       "    <tr>\n",
       "      <th>4</th>\n",
       "      <td>5.0</td>\n",
       "      <td>مكة المكرمة</td>\n",
       "      <td>التربية الخاصة</td>\n",
       "      <td>حكومي</td>\n",
       "      <td>القنفذة</td>\n",
       "      <td>بنين</td>\n",
       "      <td>تربية خاصة</td>\n",
       "      <td>تربية خاصة</td>\n",
       "      <td>عام</td>\n",
       "      <td>1.0</td>\n",
       "      <td>0.0</td>\n",
       "      <td>1.0</td>\n",
       "      <td>1437.0</td>\n",
       "    </tr>\n",
       "    <tr>\n",
       "      <th>5</th>\n",
       "      <td>6.0</td>\n",
       "      <td>عسير</td>\n",
       "      <td>المرحلة المتوسطة</td>\n",
       "      <td>حكومي</td>\n",
       "      <td>ظهران الجنوب</td>\n",
       "      <td>بنات</td>\n",
       "      <td>نهاري</td>\n",
       "      <td>تعليم عام</td>\n",
       "      <td>عام</td>\n",
       "      <td>13.0</td>\n",
       "      <td>0.0</td>\n",
       "      <td>13.0</td>\n",
       "      <td>1437.0</td>\n",
       "    </tr>\n",
       "    <tr>\n",
       "      <th>6</th>\n",
       "      <td>7.0</td>\n",
       "      <td>عسير</td>\n",
       "      <td>التربية الخاصة</td>\n",
       "      <td>حكومي</td>\n",
       "      <td>بحر أبو سكينه</td>\n",
       "      <td>بنات</td>\n",
       "      <td>تربية خاصة</td>\n",
       "      <td>تربية خاصة</td>\n",
       "      <td>عام</td>\n",
       "      <td>1.0</td>\n",
       "      <td>0.0</td>\n",
       "      <td>1.0</td>\n",
       "      <td>1437.0</td>\n",
       "    </tr>\n",
       "    <tr>\n",
       "      <th>7</th>\n",
       "      <td>8.0</td>\n",
       "      <td>الشرقية</td>\n",
       "      <td>المرحلة الثانوية</td>\n",
       "      <td>أهلي</td>\n",
       "      <td>مكتب التربية والتعليم بشرق الدمام</td>\n",
       "      <td>بنين</td>\n",
       "      <td>نهاري</td>\n",
       "      <td>مقررات</td>\n",
       "      <td>مقررات</td>\n",
       "      <td>0.0</td>\n",
       "      <td>3.0</td>\n",
       "      <td>3.0</td>\n",
       "      <td>1437.0</td>\n",
       "    </tr>\n",
       "    <tr>\n",
       "      <th>8</th>\n",
       "      <td>9.0</td>\n",
       "      <td>الرياض</td>\n",
       "      <td>التربية الخاصة</td>\n",
       "      <td>حكومي</td>\n",
       "      <td>غرب</td>\n",
       "      <td>بنات</td>\n",
       "      <td>تربية خاصة</td>\n",
       "      <td>تربية خاصة</td>\n",
       "      <td>عام</td>\n",
       "      <td>1.0</td>\n",
       "      <td>0.0</td>\n",
       "      <td>1.0</td>\n",
       "      <td>1437.0</td>\n",
       "    </tr>\n",
       "    <tr>\n",
       "      <th>9</th>\n",
       "      <td>10.0</td>\n",
       "      <td>عسير</td>\n",
       "      <td>التربية الخاصة</td>\n",
       "      <td>حكومي</td>\n",
       "      <td>محايل</td>\n",
       "      <td>بنات</td>\n",
       "      <td>تربية خاصة</td>\n",
       "      <td>تربية خاصة</td>\n",
       "      <td>عام</td>\n",
       "      <td>2.0</td>\n",
       "      <td>0.0</td>\n",
       "      <td>2.0</td>\n",
       "      <td>1437.0</td>\n",
       "    </tr>\n",
       "  </tbody>\n",
       "</table>\n",
       "</div>"
      ],
      "text/plain": [
       "     Id  AdminRegion    EducationLevel Auyhiorty  \\\n",
       "0   1.0         حائل    التربية الخاصة     حكومي   \n",
       "1   2.0  مكة المكرمة  المرحلة المتوسطة     حكومي   \n",
       "2   3.0  مكة المكرمة    التربية الخاصة     حكومي   \n",
       "3   4.0         عسير    التربية الخاصة     حكومي   \n",
       "4   5.0  مكة المكرمة    التربية الخاصة     حكومي   \n",
       "5   6.0         عسير  المرحلة المتوسطة     حكومي   \n",
       "6   7.0         عسير    التربية الخاصة     حكومي   \n",
       "7   8.0      الشرقية  المرحلة الثانوية      أهلي   \n",
       "8   9.0       الرياض    التربية الخاصة     حكومي   \n",
       "9  10.0         عسير    التربية الخاصة     حكومي   \n",
       "\n",
       "                          EducationOffice Gender  SchoolType EducationType  \\\n",
       "0           مكتب التربية والتعليم بالشمال   بنين  تربية خاصة    تربية خاصة   \n",
       "1  مكتب التربية والتعليم جنوب مكة المكرمة   بنات       نهاري    تعليم عام    \n",
       "2                                 القنفذة   بنين  تربية خاصة    تربية خاصة   \n",
       "3                                   محايل   بنات  تربية خاصة    تربية خاصة   \n",
       "4                                 القنفذة   بنين  تربية خاصة    تربية خاصة   \n",
       "5                            ظهران الجنوب   بنات       نهاري    تعليم عام    \n",
       "6                           بحر أبو سكينه   بنات  تربية خاصة    تربية خاصة   \n",
       "7       مكتب التربية والتعليم بشرق الدمام   بنين       نهاري        مقررات   \n",
       "8                                     غرب   بنات  تربية خاصة    تربية خاصة   \n",
       "9                                   محايل   بنات  تربية خاصة    تربية خاصة   \n",
       "\n",
       "  SchoolSystem  SaudiTeacher  NonSaudiTeacher  TotalTeach    year  \n",
       "0          عام           4.0              0.0         4.0  1437.0  \n",
       "1          عام          17.0              0.0        17.0  1437.0  \n",
       "2          عام           6.0              0.0         6.0  1437.0  \n",
       "3          عام           1.0              0.0         1.0  1437.0  \n",
       "4          عام           1.0              0.0         1.0  1437.0  \n",
       "5          عام          13.0              0.0        13.0  1437.0  \n",
       "6          عام           1.0              0.0         1.0  1437.0  \n",
       "7       مقررات           0.0              3.0         3.0  1437.0  \n",
       "8          عام           1.0              0.0         1.0  1437.0  \n",
       "9          عام           2.0              0.0         2.0  1437.0  "
      ]
     },
     "execution_count": 9,
     "metadata": {},
     "output_type": "execute_result"
    }
   ],
   "source": [
    "df.head(10)"
   ]
  },
  {
   "cell_type": "code",
   "execution_count": 10,
   "id": "05666424-ea85-42e0-b877-6305d9100ae7",
   "metadata": {},
   "outputs": [
    {
     "data": {
      "text/html": [
       "<div>\n",
       "<style scoped>\n",
       "    .dataframe tbody tr th:only-of-type {\n",
       "        vertical-align: middle;\n",
       "    }\n",
       "\n",
       "    .dataframe tbody tr th {\n",
       "        vertical-align: top;\n",
       "    }\n",
       "\n",
       "    .dataframe thead th {\n",
       "        text-align: right;\n",
       "    }\n",
       "</style>\n",
       "<table border=\"1\" class=\"dataframe\">\n",
       "  <thead>\n",
       "    <tr style=\"text-align: right;\">\n",
       "      <th></th>\n",
       "      <th>Id</th>\n",
       "      <th>AdminRegion</th>\n",
       "      <th>EducationLevel</th>\n",
       "      <th>Auyhiorty</th>\n",
       "      <th>EducationOffice</th>\n",
       "      <th>Gender</th>\n",
       "      <th>SchoolType</th>\n",
       "      <th>EducationType</th>\n",
       "      <th>SchoolSystem</th>\n",
       "      <th>SaudiTeacher</th>\n",
       "      <th>NonSaudiTeacher</th>\n",
       "      <th>TotalTeach</th>\n",
       "      <th>year</th>\n",
       "    </tr>\n",
       "  </thead>\n",
       "  <tbody>\n",
       "    <tr>\n",
       "      <th>0</th>\n",
       "      <td>1.0</td>\n",
       "      <td>حائل</td>\n",
       "      <td>التربية الخاصة</td>\n",
       "      <td>حكومي</td>\n",
       "      <td>مكتب التربية والتعليم بالشمال</td>\n",
       "      <td>بنين</td>\n",
       "      <td>تربية خاصة</td>\n",
       "      <td>تربية خاصة</td>\n",
       "      <td>عام</td>\n",
       "      <td>4.0</td>\n",
       "      <td>0.0</td>\n",
       "      <td>4.0</td>\n",
       "      <td>1437.0</td>\n",
       "    </tr>\n",
       "    <tr>\n",
       "      <th>1</th>\n",
       "      <td>2.0</td>\n",
       "      <td>مكة المكرمة</td>\n",
       "      <td>المرحلة المتوسطة</td>\n",
       "      <td>حكومي</td>\n",
       "      <td>مكتب التربية والتعليم جنوب مكة المكرمة</td>\n",
       "      <td>بنات</td>\n",
       "      <td>نهاري</td>\n",
       "      <td>تعليم عام</td>\n",
       "      <td>عام</td>\n",
       "      <td>17.0</td>\n",
       "      <td>0.0</td>\n",
       "      <td>17.0</td>\n",
       "      <td>1437.0</td>\n",
       "    </tr>\n",
       "    <tr>\n",
       "      <th>2</th>\n",
       "      <td>3.0</td>\n",
       "      <td>مكة المكرمة</td>\n",
       "      <td>التربية الخاصة</td>\n",
       "      <td>حكومي</td>\n",
       "      <td>القنفذة</td>\n",
       "      <td>بنين</td>\n",
       "      <td>تربية خاصة</td>\n",
       "      <td>تربية خاصة</td>\n",
       "      <td>عام</td>\n",
       "      <td>6.0</td>\n",
       "      <td>0.0</td>\n",
       "      <td>6.0</td>\n",
       "      <td>1437.0</td>\n",
       "    </tr>\n",
       "    <tr>\n",
       "      <th>3</th>\n",
       "      <td>4.0</td>\n",
       "      <td>عسير</td>\n",
       "      <td>التربية الخاصة</td>\n",
       "      <td>حكومي</td>\n",
       "      <td>محايل</td>\n",
       "      <td>بنات</td>\n",
       "      <td>تربية خاصة</td>\n",
       "      <td>تربية خاصة</td>\n",
       "      <td>عام</td>\n",
       "      <td>1.0</td>\n",
       "      <td>0.0</td>\n",
       "      <td>1.0</td>\n",
       "      <td>1437.0</td>\n",
       "    </tr>\n",
       "    <tr>\n",
       "      <th>4</th>\n",
       "      <td>5.0</td>\n",
       "      <td>مكة المكرمة</td>\n",
       "      <td>التربية الخاصة</td>\n",
       "      <td>حكومي</td>\n",
       "      <td>القنفذة</td>\n",
       "      <td>بنين</td>\n",
       "      <td>تربية خاصة</td>\n",
       "      <td>تربية خاصة</td>\n",
       "      <td>عام</td>\n",
       "      <td>1.0</td>\n",
       "      <td>0.0</td>\n",
       "      <td>1.0</td>\n",
       "      <td>1437.0</td>\n",
       "    </tr>\n",
       "    <tr>\n",
       "      <th>5</th>\n",
       "      <td>6.0</td>\n",
       "      <td>عسير</td>\n",
       "      <td>المرحلة المتوسطة</td>\n",
       "      <td>حكومي</td>\n",
       "      <td>ظهران الجنوب</td>\n",
       "      <td>بنات</td>\n",
       "      <td>نهاري</td>\n",
       "      <td>تعليم عام</td>\n",
       "      <td>عام</td>\n",
       "      <td>13.0</td>\n",
       "      <td>0.0</td>\n",
       "      <td>13.0</td>\n",
       "      <td>1437.0</td>\n",
       "    </tr>\n",
       "    <tr>\n",
       "      <th>6</th>\n",
       "      <td>7.0</td>\n",
       "      <td>عسير</td>\n",
       "      <td>التربية الخاصة</td>\n",
       "      <td>حكومي</td>\n",
       "      <td>بحر أبو سكينه</td>\n",
       "      <td>بنات</td>\n",
       "      <td>تربية خاصة</td>\n",
       "      <td>تربية خاصة</td>\n",
       "      <td>عام</td>\n",
       "      <td>1.0</td>\n",
       "      <td>0.0</td>\n",
       "      <td>1.0</td>\n",
       "      <td>1437.0</td>\n",
       "    </tr>\n",
       "  </tbody>\n",
       "</table>\n",
       "</div>"
      ],
      "text/plain": [
       "    Id  AdminRegion    EducationLevel Auyhiorty  \\\n",
       "0  1.0         حائل    التربية الخاصة     حكومي   \n",
       "1  2.0  مكة المكرمة  المرحلة المتوسطة     حكومي   \n",
       "2  3.0  مكة المكرمة    التربية الخاصة     حكومي   \n",
       "3  4.0         عسير    التربية الخاصة     حكومي   \n",
       "4  5.0  مكة المكرمة    التربية الخاصة     حكومي   \n",
       "5  6.0         عسير  المرحلة المتوسطة     حكومي   \n",
       "6  7.0         عسير    التربية الخاصة     حكومي   \n",
       "\n",
       "                          EducationOffice Gender  SchoolType EducationType  \\\n",
       "0           مكتب التربية والتعليم بالشمال   بنين  تربية خاصة    تربية خاصة   \n",
       "1  مكتب التربية والتعليم جنوب مكة المكرمة   بنات       نهاري    تعليم عام    \n",
       "2                                 القنفذة   بنين  تربية خاصة    تربية خاصة   \n",
       "3                                   محايل   بنات  تربية خاصة    تربية خاصة   \n",
       "4                                 القنفذة   بنين  تربية خاصة    تربية خاصة   \n",
       "5                            ظهران الجنوب   بنات       نهاري    تعليم عام    \n",
       "6                           بحر أبو سكينه   بنات  تربية خاصة    تربية خاصة   \n",
       "\n",
       "  SchoolSystem  SaudiTeacher  NonSaudiTeacher  TotalTeach    year  \n",
       "0          عام           4.0              0.0         4.0  1437.0  \n",
       "1          عام          17.0              0.0        17.0  1437.0  \n",
       "2          عام           6.0              0.0         6.0  1437.0  \n",
       "3          عام           1.0              0.0         1.0  1437.0  \n",
       "4          عام           1.0              0.0         1.0  1437.0  \n",
       "5          عام          13.0              0.0        13.0  1437.0  \n",
       "6          عام           1.0              0.0         1.0  1437.0  "
      ]
     },
     "execution_count": 10,
     "metadata": {},
     "output_type": "execute_result"
    }
   ],
   "source": [
    "df.head(7)"
   ]
  },
  {
   "cell_type": "code",
   "execution_count": 11,
   "id": "684b9f63-f6d5-4b35-a1ff-910a59541dee",
   "metadata": {},
   "outputs": [
    {
     "name": "stdout",
     "output_type": "stream",
     "text": [
      "<class 'pandas.core.frame.DataFrame'>\n",
      "RangeIndex: 140438 entries, 0 to 140437\n",
      "Data columns (total 13 columns):\n",
      " #   Column           Non-Null Count   Dtype  \n",
      "---  ------           --------------   -----  \n",
      " 0   Id               140438 non-null  float64\n",
      " 1   AdminRegion      140438 non-null  object \n",
      " 2   EducationLevel   140438 non-null  object \n",
      " 3   Auyhiorty        140438 non-null  object \n",
      " 4   EducationOffice  140431 non-null  object \n",
      " 5   Gender           140438 non-null  object \n",
      " 6   SchoolType       140438 non-null  object \n",
      " 7   EducationType    140438 non-null  object \n",
      " 8   SchoolSystem     140438 non-null  object \n",
      " 9   SaudiTeacher     140438 non-null  float64\n",
      " 10  NonSaudiTeacher  140438 non-null  float64\n",
      " 11  TotalTeach       140438 non-null  float64\n",
      " 12  year             140438 non-null  float64\n",
      "dtypes: float64(5), object(8)\n",
      "memory usage: 13.9+ MB\n"
     ]
    }
   ],
   "source": [
    "df.info() "
   ]
  },
  {
   "cell_type": "code",
   "execution_count": 12,
   "id": "722a1182-1677-41b3-9093-9cb608ae424f",
   "metadata": {},
   "outputs": [
    {
     "data": {
      "text/html": [
       "<div>\n",
       "<style scoped>\n",
       "    .dataframe tbody tr th:only-of-type {\n",
       "        vertical-align: middle;\n",
       "    }\n",
       "\n",
       "    .dataframe tbody tr th {\n",
       "        vertical-align: top;\n",
       "    }\n",
       "\n",
       "    .dataframe thead th {\n",
       "        text-align: right;\n",
       "    }\n",
       "</style>\n",
       "<table border=\"1\" class=\"dataframe\">\n",
       "  <thead>\n",
       "    <tr style=\"text-align: right;\">\n",
       "      <th></th>\n",
       "      <th>Id</th>\n",
       "      <th>SaudiTeacher</th>\n",
       "      <th>NonSaudiTeacher</th>\n",
       "      <th>TotalTeach</th>\n",
       "      <th>year</th>\n",
       "    </tr>\n",
       "  </thead>\n",
       "  <tbody>\n",
       "    <tr>\n",
       "      <th>count</th>\n",
       "      <td>140438.00000</td>\n",
       "      <td>140438.000000</td>\n",
       "      <td>140438.000000</td>\n",
       "      <td>140438.000000</td>\n",
       "      <td>140438.000000</td>\n",
       "    </tr>\n",
       "    <tr>\n",
       "      <th>mean</th>\n",
       "      <td>70219.50000</td>\n",
       "      <td>13.973917</td>\n",
       "      <td>1.144227</td>\n",
       "      <td>15.118145</td>\n",
       "      <td>1438.516541</td>\n",
       "    </tr>\n",
       "    <tr>\n",
       "      <th>std</th>\n",
       "      <td>40541.10289</td>\n",
       "      <td>10.304086</td>\n",
       "      <td>5.105835</td>\n",
       "      <td>11.102496</td>\n",
       "      <td>1.119660</td>\n",
       "    </tr>\n",
       "    <tr>\n",
       "      <th>min</th>\n",
       "      <td>1.00000</td>\n",
       "      <td>0.000000</td>\n",
       "      <td>0.000000</td>\n",
       "      <td>1.000000</td>\n",
       "      <td>1437.000000</td>\n",
       "    </tr>\n",
       "    <tr>\n",
       "      <th>25%</th>\n",
       "      <td>35110.25000</td>\n",
       "      <td>7.000000</td>\n",
       "      <td>0.000000</td>\n",
       "      <td>8.000000</td>\n",
       "      <td>1438.000000</td>\n",
       "    </tr>\n",
       "    <tr>\n",
       "      <th>50%</th>\n",
       "      <td>70219.50000</td>\n",
       "      <td>11.000000</td>\n",
       "      <td>0.000000</td>\n",
       "      <td>12.000000</td>\n",
       "      <td>1439.000000</td>\n",
       "    </tr>\n",
       "    <tr>\n",
       "      <th>75%</th>\n",
       "      <td>105328.75000</td>\n",
       "      <td>19.000000</td>\n",
       "      <td>0.000000</td>\n",
       "      <td>21.000000</td>\n",
       "      <td>1440.000000</td>\n",
       "    </tr>\n",
       "    <tr>\n",
       "      <th>max</th>\n",
       "      <td>140438.00000</td>\n",
       "      <td>150.000000</td>\n",
       "      <td>234.000000</td>\n",
       "      <td>258.000000</td>\n",
       "      <td>1440.000000</td>\n",
       "    </tr>\n",
       "  </tbody>\n",
       "</table>\n",
       "</div>"
      ],
      "text/plain": [
       "                 Id   SaudiTeacher  NonSaudiTeacher     TotalTeach  \\\n",
       "count  140438.00000  140438.000000    140438.000000  140438.000000   \n",
       "mean    70219.50000      13.973917         1.144227      15.118145   \n",
       "std     40541.10289      10.304086         5.105835      11.102496   \n",
       "min         1.00000       0.000000         0.000000       1.000000   \n",
       "25%     35110.25000       7.000000         0.000000       8.000000   \n",
       "50%     70219.50000      11.000000         0.000000      12.000000   \n",
       "75%    105328.75000      19.000000         0.000000      21.000000   \n",
       "max    140438.00000     150.000000       234.000000     258.000000   \n",
       "\n",
       "                year  \n",
       "count  140438.000000  \n",
       "mean     1438.516541  \n",
       "std         1.119660  \n",
       "min      1437.000000  \n",
       "25%      1438.000000  \n",
       "50%      1439.000000  \n",
       "75%      1440.000000  \n",
       "max      1440.000000  "
      ]
     },
     "execution_count": 12,
     "metadata": {},
     "output_type": "execute_result"
    }
   ],
   "source": [
    "df.describe()"
   ]
  },
  {
   "cell_type": "markdown",
   "id": "3098e81e-fd09-4b4f-9340-17ac02b8c9fc",
   "metadata": {},
   "source": [
    "#Data Cleaning\n",
    "\n",
    "     |\n",
    "     |\n",
    "     -\n",
    "     V"
   ]
  },
  {
   "cell_type": "code",
   "execution_count": 13,
   "id": "8278858e-4134-41ee-b4ef-5d5362225a6f",
   "metadata": {},
   "outputs": [
    {
     "data": {
      "text/plain": [
       "Id                 0\n",
       "AdminRegion        0\n",
       "EducationLevel     0\n",
       "Auyhiorty          0\n",
       "EducationOffice    7\n",
       "Gender             0\n",
       "SchoolType         0\n",
       "EducationType      0\n",
       "SchoolSystem       0\n",
       "SaudiTeacher       0\n",
       "NonSaudiTeacher    0\n",
       "TotalTeach         0\n",
       "year               0\n",
       "dtype: int64"
      ]
     },
     "execution_count": 13,
     "metadata": {},
     "output_type": "execute_result"
    }
   ],
   "source": [
    "df.isnull().sum()"
   ]
  },
  {
   "cell_type": "code",
   "execution_count": 14,
   "id": "4c725149-9696-447f-a1c1-ccfea61e4b69",
   "metadata": {},
   "outputs": [],
   "source": [
    "df.dropna(inplace=True)"
   ]
  },
  {
   "cell_type": "code",
   "execution_count": 15,
   "id": "632aae24-aa39-4e3e-b708-7ed90bdbe80d",
   "metadata": {},
   "outputs": [
    {
     "data": {
      "text/html": [
       "<div>\n",
       "<style scoped>\n",
       "    .dataframe tbody tr th:only-of-type {\n",
       "        vertical-align: middle;\n",
       "    }\n",
       "\n",
       "    .dataframe tbody tr th {\n",
       "        vertical-align: top;\n",
       "    }\n",
       "\n",
       "    .dataframe thead th {\n",
       "        text-align: right;\n",
       "    }\n",
       "</style>\n",
       "<table border=\"1\" class=\"dataframe\">\n",
       "  <thead>\n",
       "    <tr style=\"text-align: right;\">\n",
       "      <th></th>\n",
       "      <th>Id</th>\n",
       "      <th>AdminRegion</th>\n",
       "      <th>EducationLevel</th>\n",
       "      <th>Auyhiorty</th>\n",
       "      <th>EducationOffice</th>\n",
       "      <th>Gender</th>\n",
       "      <th>SchoolType</th>\n",
       "      <th>EducationType</th>\n",
       "      <th>SchoolSystem</th>\n",
       "      <th>SaudiTeacher</th>\n",
       "      <th>NonSaudiTeacher</th>\n",
       "      <th>TotalTeach</th>\n",
       "      <th>year</th>\n",
       "    </tr>\n",
       "  </thead>\n",
       "  <tbody>\n",
       "    <tr>\n",
       "      <th>0</th>\n",
       "      <td>1.0</td>\n",
       "      <td>حائل</td>\n",
       "      <td>التربية الخاصة</td>\n",
       "      <td>حكومي</td>\n",
       "      <td>مكتب التربية والتعليم بالشمال</td>\n",
       "      <td>بنين</td>\n",
       "      <td>تربية خاصة</td>\n",
       "      <td>تربية خاصة</td>\n",
       "      <td>عام</td>\n",
       "      <td>4.0</td>\n",
       "      <td>0.0</td>\n",
       "      <td>4.0</td>\n",
       "      <td>1437.0</td>\n",
       "    </tr>\n",
       "    <tr>\n",
       "      <th>1</th>\n",
       "      <td>2.0</td>\n",
       "      <td>مكة المكرمة</td>\n",
       "      <td>المرحلة المتوسطة</td>\n",
       "      <td>حكومي</td>\n",
       "      <td>مكتب التربية والتعليم جنوب مكة المكرمة</td>\n",
       "      <td>بنات</td>\n",
       "      <td>نهاري</td>\n",
       "      <td>تعليم عام</td>\n",
       "      <td>عام</td>\n",
       "      <td>17.0</td>\n",
       "      <td>0.0</td>\n",
       "      <td>17.0</td>\n",
       "      <td>1437.0</td>\n",
       "    </tr>\n",
       "    <tr>\n",
       "      <th>2</th>\n",
       "      <td>3.0</td>\n",
       "      <td>مكة المكرمة</td>\n",
       "      <td>التربية الخاصة</td>\n",
       "      <td>حكومي</td>\n",
       "      <td>القنفذة</td>\n",
       "      <td>بنين</td>\n",
       "      <td>تربية خاصة</td>\n",
       "      <td>تربية خاصة</td>\n",
       "      <td>عام</td>\n",
       "      <td>6.0</td>\n",
       "      <td>0.0</td>\n",
       "      <td>6.0</td>\n",
       "      <td>1437.0</td>\n",
       "    </tr>\n",
       "    <tr>\n",
       "      <th>3</th>\n",
       "      <td>4.0</td>\n",
       "      <td>عسير</td>\n",
       "      <td>التربية الخاصة</td>\n",
       "      <td>حكومي</td>\n",
       "      <td>محايل</td>\n",
       "      <td>بنات</td>\n",
       "      <td>تربية خاصة</td>\n",
       "      <td>تربية خاصة</td>\n",
       "      <td>عام</td>\n",
       "      <td>1.0</td>\n",
       "      <td>0.0</td>\n",
       "      <td>1.0</td>\n",
       "      <td>1437.0</td>\n",
       "    </tr>\n",
       "    <tr>\n",
       "      <th>4</th>\n",
       "      <td>5.0</td>\n",
       "      <td>مكة المكرمة</td>\n",
       "      <td>التربية الخاصة</td>\n",
       "      <td>حكومي</td>\n",
       "      <td>القنفذة</td>\n",
       "      <td>بنين</td>\n",
       "      <td>تربية خاصة</td>\n",
       "      <td>تربية خاصة</td>\n",
       "      <td>عام</td>\n",
       "      <td>1.0</td>\n",
       "      <td>0.0</td>\n",
       "      <td>1.0</td>\n",
       "      <td>1437.0</td>\n",
       "    </tr>\n",
       "    <tr>\n",
       "      <th>...</th>\n",
       "      <td>...</td>\n",
       "      <td>...</td>\n",
       "      <td>...</td>\n",
       "      <td>...</td>\n",
       "      <td>...</td>\n",
       "      <td>...</td>\n",
       "      <td>...</td>\n",
       "      <td>...</td>\n",
       "      <td>...</td>\n",
       "      <td>...</td>\n",
       "      <td>...</td>\n",
       "      <td>...</td>\n",
       "      <td>...</td>\n",
       "    </tr>\n",
       "    <tr>\n",
       "      <th>140433</th>\n",
       "      <td>140434.0</td>\n",
       "      <td>الجوف</td>\n",
       "      <td>المرحلة الثانوية</td>\n",
       "      <td>أهلي</td>\n",
       "      <td>إدارة الإشراف التربوي</td>\n",
       "      <td>بنين</td>\n",
       "      <td>نهاري</td>\n",
       "      <td>تعليم عام</td>\n",
       "      <td>مقررات</td>\n",
       "      <td>1.0</td>\n",
       "      <td>0.0</td>\n",
       "      <td>1.0</td>\n",
       "      <td>1440.0</td>\n",
       "    </tr>\n",
       "    <tr>\n",
       "      <th>140434</th>\n",
       "      <td>140435.0</td>\n",
       "      <td>الجوف</td>\n",
       "      <td>المرحلة الثانوية</td>\n",
       "      <td>حكومي</td>\n",
       "      <td>إدارة الإشراف التربوي</td>\n",
       "      <td>بنين</td>\n",
       "      <td>نهاري</td>\n",
       "      <td>تعليم عام</td>\n",
       "      <td>مقررات</td>\n",
       "      <td>1.0</td>\n",
       "      <td>0.0</td>\n",
       "      <td>1.0</td>\n",
       "      <td>1440.0</td>\n",
       "    </tr>\n",
       "    <tr>\n",
       "      <th>140435</th>\n",
       "      <td>140436.0</td>\n",
       "      <td>مكة المكرمة</td>\n",
       "      <td>المرحلة الثانوية</td>\n",
       "      <td>حكومي</td>\n",
       "      <td>مكتب التعليم غرب مكة المكرمة</td>\n",
       "      <td>بنات</td>\n",
       "      <td>نهاري</td>\n",
       "      <td>تعليم عام</td>\n",
       "      <td>مقررات</td>\n",
       "      <td>44.0</td>\n",
       "      <td>0.0</td>\n",
       "      <td>44.0</td>\n",
       "      <td>1440.0</td>\n",
       "    </tr>\n",
       "    <tr>\n",
       "      <th>140436</th>\n",
       "      <td>140437.0</td>\n",
       "      <td>حائل</td>\n",
       "      <td>المرحلة الثانوية</td>\n",
       "      <td>حكومي</td>\n",
       "      <td>شرق حائل</td>\n",
       "      <td>بنات</td>\n",
       "      <td>نهاري</td>\n",
       "      <td>تعليم عام</td>\n",
       "      <td>مقررات</td>\n",
       "      <td>38.0</td>\n",
       "      <td>0.0</td>\n",
       "      <td>38.0</td>\n",
       "      <td>1440.0</td>\n",
       "    </tr>\n",
       "    <tr>\n",
       "      <th>140437</th>\n",
       "      <td>140438.0</td>\n",
       "      <td>الرياض</td>\n",
       "      <td>المرحلة الثانوية</td>\n",
       "      <td>حكومي</td>\n",
       "      <td>مكتب التعليم بالقويعية</td>\n",
       "      <td>بنات</td>\n",
       "      <td>نهاري</td>\n",
       "      <td>تعليم عام</td>\n",
       "      <td>مقررات</td>\n",
       "      <td>8.0</td>\n",
       "      <td>0.0</td>\n",
       "      <td>8.0</td>\n",
       "      <td>1440.0</td>\n",
       "    </tr>\n",
       "  </tbody>\n",
       "</table>\n",
       "<p>140431 rows × 13 columns</p>\n",
       "</div>"
      ],
      "text/plain": [
       "              Id  AdminRegion    EducationLevel Auyhiorty  \\\n",
       "0            1.0         حائل    التربية الخاصة     حكومي   \n",
       "1            2.0  مكة المكرمة  المرحلة المتوسطة     حكومي   \n",
       "2            3.0  مكة المكرمة    التربية الخاصة     حكومي   \n",
       "3            4.0         عسير    التربية الخاصة     حكومي   \n",
       "4            5.0  مكة المكرمة    التربية الخاصة     حكومي   \n",
       "...          ...          ...               ...       ...   \n",
       "140433  140434.0        الجوف  المرحلة الثانوية      أهلي   \n",
       "140434  140435.0        الجوف  المرحلة الثانوية     حكومي   \n",
       "140435  140436.0  مكة المكرمة  المرحلة الثانوية     حكومي   \n",
       "140436  140437.0         حائل  المرحلة الثانوية     حكومي   \n",
       "140437  140438.0       الرياض  المرحلة الثانوية     حكومي   \n",
       "\n",
       "                               EducationOffice Gender  SchoolType  \\\n",
       "0                مكتب التربية والتعليم بالشمال   بنين  تربية خاصة   \n",
       "1       مكتب التربية والتعليم جنوب مكة المكرمة   بنات       نهاري   \n",
       "2                                      القنفذة   بنين  تربية خاصة   \n",
       "3                                        محايل   بنات  تربية خاصة   \n",
       "4                                      القنفذة   بنين  تربية خاصة   \n",
       "...                                        ...    ...         ...   \n",
       "140433                   إدارة الإشراف التربوي   بنين       نهاري   \n",
       "140434                   إدارة الإشراف التربوي   بنين       نهاري   \n",
       "140435            مكتب التعليم غرب مكة المكرمة   بنات       نهاري   \n",
       "140436                                شرق حائل   بنات       نهاري   \n",
       "140437                  مكتب التعليم بالقويعية   بنات       نهاري   \n",
       "\n",
       "       EducationType SchoolSystem  SaudiTeacher  NonSaudiTeacher  TotalTeach  \\\n",
       "0         تربية خاصة          عام           4.0              0.0         4.0   \n",
       "1         تعليم عام           عام          17.0              0.0        17.0   \n",
       "2         تربية خاصة          عام           6.0              0.0         6.0   \n",
       "3         تربية خاصة          عام           1.0              0.0         1.0   \n",
       "4         تربية خاصة          عام           1.0              0.0         1.0   \n",
       "...              ...          ...           ...              ...         ...   \n",
       "140433    تعليم عام        مقررات           1.0              0.0         1.0   \n",
       "140434    تعليم عام        مقررات           1.0              0.0         1.0   \n",
       "140435    تعليم عام        مقررات          44.0              0.0        44.0   \n",
       "140436    تعليم عام        مقررات          38.0              0.0        38.0   \n",
       "140437    تعليم عام        مقررات           8.0              0.0         8.0   \n",
       "\n",
       "          year  \n",
       "0       1437.0  \n",
       "1       1437.0  \n",
       "2       1437.0  \n",
       "3       1437.0  \n",
       "4       1437.0  \n",
       "...        ...  \n",
       "140433  1440.0  \n",
       "140434  1440.0  \n",
       "140435  1440.0  \n",
       "140436  1440.0  \n",
       "140437  1440.0  \n",
       "\n",
       "[140431 rows x 13 columns]"
      ]
     },
     "execution_count": 15,
     "metadata": {},
     "output_type": "execute_result"
    }
   ],
   "source": [
    "df"
   ]
  },
  {
   "cell_type": "code",
   "execution_count": 16,
   "id": "a2d29001-a4d5-4bff-9c13-8c5efcae9486",
   "metadata": {},
   "outputs": [
    {
     "data": {
      "text/plain": [
       "0"
      ]
     },
     "execution_count": 16,
     "metadata": {},
     "output_type": "execute_result"
    }
   ],
   "source": [
    "df.duplicated().sum()"
   ]
  },
  {
   "cell_type": "markdown",
   "id": "123bc84e-37ef-4b1d-81bf-387ed263ba37",
   "metadata": {},
   "source": [
    "#Exploratory Data Analysis\n",
    "\n",
    "     |\n",
    "     |\n",
    "     -\n",
    "     V"
   ]
  },
  {
   "cell_type": "code",
   "execution_count": 17,
   "id": "e2101a6a-e03a-45ed-b0f7-ae0e6b2fb1c8",
   "metadata": {},
   "outputs": [
    {
     "data": {
      "text/html": [
       "<div>\n",
       "<style scoped>\n",
       "    .dataframe tbody tr th:only-of-type {\n",
       "        vertical-align: middle;\n",
       "    }\n",
       "\n",
       "    .dataframe tbody tr th {\n",
       "        vertical-align: top;\n",
       "    }\n",
       "\n",
       "    .dataframe thead th {\n",
       "        text-align: right;\n",
       "    }\n",
       "</style>\n",
       "<table border=\"1\" class=\"dataframe\">\n",
       "  <thead>\n",
       "    <tr style=\"text-align: right;\">\n",
       "      <th></th>\n",
       "      <th>Id</th>\n",
       "      <th>AdminRegion</th>\n",
       "      <th>EducationLevel</th>\n",
       "      <th>Auyhiorty</th>\n",
       "      <th>EducationOffice</th>\n",
       "      <th>Gender</th>\n",
       "      <th>SchoolType</th>\n",
       "      <th>EducationType</th>\n",
       "      <th>SchoolSystem</th>\n",
       "      <th>SaudiTeacher</th>\n",
       "      <th>NonSaudiTeacher</th>\n",
       "      <th>TotalTeach</th>\n",
       "      <th>year</th>\n",
       "    </tr>\n",
       "  </thead>\n",
       "  <tbody>\n",
       "    <tr>\n",
       "      <th>0</th>\n",
       "      <td>1.0</td>\n",
       "      <td>حائل</td>\n",
       "      <td>التربية الخاصة</td>\n",
       "      <td>حكومي</td>\n",
       "      <td>مكتب التربية والتعليم بالشمال</td>\n",
       "      <td>بنين</td>\n",
       "      <td>تربية خاصة</td>\n",
       "      <td>تربية خاصة</td>\n",
       "      <td>عام</td>\n",
       "      <td>4.0</td>\n",
       "      <td>0.0</td>\n",
       "      <td>4.0</td>\n",
       "      <td>1437.0</td>\n",
       "    </tr>\n",
       "    <tr>\n",
       "      <th>2</th>\n",
       "      <td>3.0</td>\n",
       "      <td>مكة المكرمة</td>\n",
       "      <td>التربية الخاصة</td>\n",
       "      <td>حكومي</td>\n",
       "      <td>القنفذة</td>\n",
       "      <td>بنين</td>\n",
       "      <td>تربية خاصة</td>\n",
       "      <td>تربية خاصة</td>\n",
       "      <td>عام</td>\n",
       "      <td>6.0</td>\n",
       "      <td>0.0</td>\n",
       "      <td>6.0</td>\n",
       "      <td>1437.0</td>\n",
       "    </tr>\n",
       "    <tr>\n",
       "      <th>4</th>\n",
       "      <td>5.0</td>\n",
       "      <td>مكة المكرمة</td>\n",
       "      <td>التربية الخاصة</td>\n",
       "      <td>حكومي</td>\n",
       "      <td>القنفذة</td>\n",
       "      <td>بنين</td>\n",
       "      <td>تربية خاصة</td>\n",
       "      <td>تربية خاصة</td>\n",
       "      <td>عام</td>\n",
       "      <td>1.0</td>\n",
       "      <td>0.0</td>\n",
       "      <td>1.0</td>\n",
       "      <td>1437.0</td>\n",
       "    </tr>\n",
       "    <tr>\n",
       "      <th>7</th>\n",
       "      <td>8.0</td>\n",
       "      <td>الشرقية</td>\n",
       "      <td>المرحلة الثانوية</td>\n",
       "      <td>أهلي</td>\n",
       "      <td>مكتب التربية والتعليم بشرق الدمام</td>\n",
       "      <td>بنين</td>\n",
       "      <td>نهاري</td>\n",
       "      <td>مقررات</td>\n",
       "      <td>مقررات</td>\n",
       "      <td>0.0</td>\n",
       "      <td>3.0</td>\n",
       "      <td>3.0</td>\n",
       "      <td>1437.0</td>\n",
       "    </tr>\n",
       "    <tr>\n",
       "      <th>10</th>\n",
       "      <td>11.0</td>\n",
       "      <td>نجران</td>\n",
       "      <td>المرحلة الثانوية</td>\n",
       "      <td>أهلي</td>\n",
       "      <td>مكتب التربية والتعليم بنجران</td>\n",
       "      <td>بنين</td>\n",
       "      <td>نهاري</td>\n",
       "      <td>مقررات</td>\n",
       "      <td>مقررات</td>\n",
       "      <td>3.0</td>\n",
       "      <td>5.0</td>\n",
       "      <td>8.0</td>\n",
       "      <td>1437.0</td>\n",
       "    </tr>\n",
       "    <tr>\n",
       "      <th>...</th>\n",
       "      <td>...</td>\n",
       "      <td>...</td>\n",
       "      <td>...</td>\n",
       "      <td>...</td>\n",
       "      <td>...</td>\n",
       "      <td>...</td>\n",
       "      <td>...</td>\n",
       "      <td>...</td>\n",
       "      <td>...</td>\n",
       "      <td>...</td>\n",
       "      <td>...</td>\n",
       "      <td>...</td>\n",
       "      <td>...</td>\n",
       "    </tr>\n",
       "    <tr>\n",
       "      <th>140429</th>\n",
       "      <td>140430.0</td>\n",
       "      <td>الشرقية</td>\n",
       "      <td>المرحلة الثانوية</td>\n",
       "      <td>حكومي</td>\n",
       "      <td>إدارة الإشراف التربوي</td>\n",
       "      <td>بنين</td>\n",
       "      <td>نهاري</td>\n",
       "      <td>تعليم عام</td>\n",
       "      <td>مقررات</td>\n",
       "      <td>21.0</td>\n",
       "      <td>0.0</td>\n",
       "      <td>21.0</td>\n",
       "      <td>1440.0</td>\n",
       "    </tr>\n",
       "    <tr>\n",
       "      <th>140430</th>\n",
       "      <td>140431.0</td>\n",
       "      <td>مكة المكرمة</td>\n",
       "      <td>المرحلة الثانوية</td>\n",
       "      <td>أهلي</td>\n",
       "      <td>مكتب التعليم الأهلي بمكة المكرمة</td>\n",
       "      <td>بنين</td>\n",
       "      <td>نهاري</td>\n",
       "      <td>تعليم عام</td>\n",
       "      <td>مقررات</td>\n",
       "      <td>8.0</td>\n",
       "      <td>3.0</td>\n",
       "      <td>11.0</td>\n",
       "      <td>1440.0</td>\n",
       "    </tr>\n",
       "    <tr>\n",
       "      <th>140431</th>\n",
       "      <td>140432.0</td>\n",
       "      <td>مكة المكرمة</td>\n",
       "      <td>المرحلة الثانوية</td>\n",
       "      <td>حكومي</td>\n",
       "      <td>مكتب التعليم بشرق جدة</td>\n",
       "      <td>بنين</td>\n",
       "      <td>نهاري</td>\n",
       "      <td>تعليم عام</td>\n",
       "      <td>مقررات</td>\n",
       "      <td>5.0</td>\n",
       "      <td>0.0</td>\n",
       "      <td>5.0</td>\n",
       "      <td>1440.0</td>\n",
       "    </tr>\n",
       "    <tr>\n",
       "      <th>140433</th>\n",
       "      <td>140434.0</td>\n",
       "      <td>الجوف</td>\n",
       "      <td>المرحلة الثانوية</td>\n",
       "      <td>أهلي</td>\n",
       "      <td>إدارة الإشراف التربوي</td>\n",
       "      <td>بنين</td>\n",
       "      <td>نهاري</td>\n",
       "      <td>تعليم عام</td>\n",
       "      <td>مقررات</td>\n",
       "      <td>1.0</td>\n",
       "      <td>0.0</td>\n",
       "      <td>1.0</td>\n",
       "      <td>1440.0</td>\n",
       "    </tr>\n",
       "    <tr>\n",
       "      <th>140434</th>\n",
       "      <td>140435.0</td>\n",
       "      <td>الجوف</td>\n",
       "      <td>المرحلة الثانوية</td>\n",
       "      <td>حكومي</td>\n",
       "      <td>إدارة الإشراف التربوي</td>\n",
       "      <td>بنين</td>\n",
       "      <td>نهاري</td>\n",
       "      <td>تعليم عام</td>\n",
       "      <td>مقررات</td>\n",
       "      <td>1.0</td>\n",
       "      <td>0.0</td>\n",
       "      <td>1.0</td>\n",
       "      <td>1440.0</td>\n",
       "    </tr>\n",
       "  </tbody>\n",
       "</table>\n",
       "<p>62765 rows × 13 columns</p>\n",
       "</div>"
      ],
      "text/plain": [
       "              Id  AdminRegion    EducationLevel Auyhiorty  \\\n",
       "0            1.0         حائل    التربية الخاصة     حكومي   \n",
       "2            3.0  مكة المكرمة    التربية الخاصة     حكومي   \n",
       "4            5.0  مكة المكرمة    التربية الخاصة     حكومي   \n",
       "7            8.0      الشرقية  المرحلة الثانوية      أهلي   \n",
       "10          11.0        نجران  المرحلة الثانوية      أهلي   \n",
       "...          ...          ...               ...       ...   \n",
       "140429  140430.0      الشرقية  المرحلة الثانوية     حكومي   \n",
       "140430  140431.0  مكة المكرمة  المرحلة الثانوية      أهلي   \n",
       "140431  140432.0  مكة المكرمة  المرحلة الثانوية     حكومي   \n",
       "140433  140434.0        الجوف  المرحلة الثانوية      أهلي   \n",
       "140434  140435.0        الجوف  المرحلة الثانوية     حكومي   \n",
       "\n",
       "                          EducationOffice Gender  SchoolType EducationType  \\\n",
       "0           مكتب التربية والتعليم بالشمال   بنين  تربية خاصة    تربية خاصة   \n",
       "2                                 القنفذة   بنين  تربية خاصة    تربية خاصة   \n",
       "4                                 القنفذة   بنين  تربية خاصة    تربية خاصة   \n",
       "7       مكتب التربية والتعليم بشرق الدمام   بنين       نهاري        مقررات   \n",
       "10           مكتب التربية والتعليم بنجران   بنين       نهاري        مقررات   \n",
       "...                                   ...    ...         ...           ...   \n",
       "140429              إدارة الإشراف التربوي   بنين       نهاري    تعليم عام    \n",
       "140430   مكتب التعليم الأهلي بمكة المكرمة   بنين       نهاري    تعليم عام    \n",
       "140431              مكتب التعليم بشرق جدة   بنين       نهاري    تعليم عام    \n",
       "140433              إدارة الإشراف التربوي   بنين       نهاري    تعليم عام    \n",
       "140434              إدارة الإشراف التربوي   بنين       نهاري    تعليم عام    \n",
       "\n",
       "       SchoolSystem  SaudiTeacher  NonSaudiTeacher  TotalTeach    year  \n",
       "0               عام           4.0              0.0         4.0  1437.0  \n",
       "2               عام           6.0              0.0         6.0  1437.0  \n",
       "4               عام           1.0              0.0         1.0  1437.0  \n",
       "7            مقررات           0.0              3.0         3.0  1437.0  \n",
       "10           مقررات           3.0              5.0         8.0  1437.0  \n",
       "...             ...           ...              ...         ...     ...  \n",
       "140429       مقررات          21.0              0.0        21.0  1440.0  \n",
       "140430       مقررات           8.0              3.0        11.0  1440.0  \n",
       "140431       مقررات           5.0              0.0         5.0  1440.0  \n",
       "140433       مقررات           1.0              0.0         1.0  1440.0  \n",
       "140434       مقررات           1.0              0.0         1.0  1440.0  \n",
       "\n",
       "[62765 rows x 13 columns]"
      ]
     },
     "execution_count": 17,
     "metadata": {},
     "output_type": "execute_result"
    }
   ],
   "source": [
    "df[df[\"Gender\"] == \"بنين\"]"
   ]
  },
  {
   "cell_type": "code",
   "execution_count": 18,
   "id": "3c93f5fa-b9c3-427d-a210-fe72f0f888d6",
   "metadata": {},
   "outputs": [
    {
     "data": {
      "text/html": [
       "<div>\n",
       "<style scoped>\n",
       "    .dataframe tbody tr th:only-of-type {\n",
       "        vertical-align: middle;\n",
       "    }\n",
       "\n",
       "    .dataframe tbody tr th {\n",
       "        vertical-align: top;\n",
       "    }\n",
       "\n",
       "    .dataframe thead th {\n",
       "        text-align: right;\n",
       "    }\n",
       "</style>\n",
       "<table border=\"1\" class=\"dataframe\">\n",
       "  <thead>\n",
       "    <tr style=\"text-align: right;\">\n",
       "      <th></th>\n",
       "      <th>Id</th>\n",
       "      <th>AdminRegion</th>\n",
       "      <th>EducationLevel</th>\n",
       "      <th>Auyhiorty</th>\n",
       "      <th>EducationOffice</th>\n",
       "      <th>Gender</th>\n",
       "      <th>SchoolType</th>\n",
       "      <th>EducationType</th>\n",
       "      <th>SchoolSystem</th>\n",
       "      <th>SaudiTeacher</th>\n",
       "      <th>NonSaudiTeacher</th>\n",
       "      <th>TotalTeach</th>\n",
       "      <th>year</th>\n",
       "    </tr>\n",
       "  </thead>\n",
       "  <tbody>\n",
       "    <tr>\n",
       "      <th>0</th>\n",
       "      <td>1.0</td>\n",
       "      <td>حائل</td>\n",
       "      <td>التربية الخاصة</td>\n",
       "      <td>حكومي</td>\n",
       "      <td>مكتب التربية والتعليم بالشمال</td>\n",
       "      <td>بنين</td>\n",
       "      <td>تربية خاصة</td>\n",
       "      <td>تربية خاصة</td>\n",
       "      <td>عام</td>\n",
       "      <td>4.0</td>\n",
       "      <td>0.0</td>\n",
       "      <td>4.0</td>\n",
       "      <td>1437.0</td>\n",
       "    </tr>\n",
       "    <tr>\n",
       "      <th>1</th>\n",
       "      <td>2.0</td>\n",
       "      <td>مكة المكرمة</td>\n",
       "      <td>المرحلة المتوسطة</td>\n",
       "      <td>حكومي</td>\n",
       "      <td>مكتب التربية والتعليم جنوب مكة المكرمة</td>\n",
       "      <td>بنات</td>\n",
       "      <td>نهاري</td>\n",
       "      <td>تعليم عام</td>\n",
       "      <td>عام</td>\n",
       "      <td>17.0</td>\n",
       "      <td>0.0</td>\n",
       "      <td>17.0</td>\n",
       "      <td>1437.0</td>\n",
       "    </tr>\n",
       "    <tr>\n",
       "      <th>2</th>\n",
       "      <td>3.0</td>\n",
       "      <td>مكة المكرمة</td>\n",
       "      <td>التربية الخاصة</td>\n",
       "      <td>حكومي</td>\n",
       "      <td>القنفذة</td>\n",
       "      <td>بنين</td>\n",
       "      <td>تربية خاصة</td>\n",
       "      <td>تربية خاصة</td>\n",
       "      <td>عام</td>\n",
       "      <td>6.0</td>\n",
       "      <td>0.0</td>\n",
       "      <td>6.0</td>\n",
       "      <td>1437.0</td>\n",
       "    </tr>\n",
       "    <tr>\n",
       "      <th>3</th>\n",
       "      <td>4.0</td>\n",
       "      <td>عسير</td>\n",
       "      <td>التربية الخاصة</td>\n",
       "      <td>حكومي</td>\n",
       "      <td>محايل</td>\n",
       "      <td>بنات</td>\n",
       "      <td>تربية خاصة</td>\n",
       "      <td>تربية خاصة</td>\n",
       "      <td>عام</td>\n",
       "      <td>1.0</td>\n",
       "      <td>0.0</td>\n",
       "      <td>1.0</td>\n",
       "      <td>1437.0</td>\n",
       "    </tr>\n",
       "    <tr>\n",
       "      <th>4</th>\n",
       "      <td>5.0</td>\n",
       "      <td>مكة المكرمة</td>\n",
       "      <td>التربية الخاصة</td>\n",
       "      <td>حكومي</td>\n",
       "      <td>القنفذة</td>\n",
       "      <td>بنين</td>\n",
       "      <td>تربية خاصة</td>\n",
       "      <td>تربية خاصة</td>\n",
       "      <td>عام</td>\n",
       "      <td>1.0</td>\n",
       "      <td>0.0</td>\n",
       "      <td>1.0</td>\n",
       "      <td>1437.0</td>\n",
       "    </tr>\n",
       "    <tr>\n",
       "      <th>...</th>\n",
       "      <td>...</td>\n",
       "      <td>...</td>\n",
       "      <td>...</td>\n",
       "      <td>...</td>\n",
       "      <td>...</td>\n",
       "      <td>...</td>\n",
       "      <td>...</td>\n",
       "      <td>...</td>\n",
       "      <td>...</td>\n",
       "      <td>...</td>\n",
       "      <td>...</td>\n",
       "      <td>...</td>\n",
       "      <td>...</td>\n",
       "    </tr>\n",
       "    <tr>\n",
       "      <th>140432</th>\n",
       "      <td>140433.0</td>\n",
       "      <td>عسير</td>\n",
       "      <td>المرحلة الثانوية</td>\n",
       "      <td>حكومي</td>\n",
       "      <td>خميس مشيط</td>\n",
       "      <td>بنات</td>\n",
       "      <td>نهاري</td>\n",
       "      <td>تعليم عام</td>\n",
       "      <td>مقررات</td>\n",
       "      <td>35.0</td>\n",
       "      <td>0.0</td>\n",
       "      <td>35.0</td>\n",
       "      <td>1440.0</td>\n",
       "    </tr>\n",
       "    <tr>\n",
       "      <th>140434</th>\n",
       "      <td>140435.0</td>\n",
       "      <td>الجوف</td>\n",
       "      <td>المرحلة الثانوية</td>\n",
       "      <td>حكومي</td>\n",
       "      <td>إدارة الإشراف التربوي</td>\n",
       "      <td>بنين</td>\n",
       "      <td>نهاري</td>\n",
       "      <td>تعليم عام</td>\n",
       "      <td>مقررات</td>\n",
       "      <td>1.0</td>\n",
       "      <td>0.0</td>\n",
       "      <td>1.0</td>\n",
       "      <td>1440.0</td>\n",
       "    </tr>\n",
       "    <tr>\n",
       "      <th>140435</th>\n",
       "      <td>140436.0</td>\n",
       "      <td>مكة المكرمة</td>\n",
       "      <td>المرحلة الثانوية</td>\n",
       "      <td>حكومي</td>\n",
       "      <td>مكتب التعليم غرب مكة المكرمة</td>\n",
       "      <td>بنات</td>\n",
       "      <td>نهاري</td>\n",
       "      <td>تعليم عام</td>\n",
       "      <td>مقررات</td>\n",
       "      <td>44.0</td>\n",
       "      <td>0.0</td>\n",
       "      <td>44.0</td>\n",
       "      <td>1440.0</td>\n",
       "    </tr>\n",
       "    <tr>\n",
       "      <th>140436</th>\n",
       "      <td>140437.0</td>\n",
       "      <td>حائل</td>\n",
       "      <td>المرحلة الثانوية</td>\n",
       "      <td>حكومي</td>\n",
       "      <td>شرق حائل</td>\n",
       "      <td>بنات</td>\n",
       "      <td>نهاري</td>\n",
       "      <td>تعليم عام</td>\n",
       "      <td>مقررات</td>\n",
       "      <td>38.0</td>\n",
       "      <td>0.0</td>\n",
       "      <td>38.0</td>\n",
       "      <td>1440.0</td>\n",
       "    </tr>\n",
       "    <tr>\n",
       "      <th>140437</th>\n",
       "      <td>140438.0</td>\n",
       "      <td>الرياض</td>\n",
       "      <td>المرحلة الثانوية</td>\n",
       "      <td>حكومي</td>\n",
       "      <td>مكتب التعليم بالقويعية</td>\n",
       "      <td>بنات</td>\n",
       "      <td>نهاري</td>\n",
       "      <td>تعليم عام</td>\n",
       "      <td>مقررات</td>\n",
       "      <td>8.0</td>\n",
       "      <td>0.0</td>\n",
       "      <td>8.0</td>\n",
       "      <td>1440.0</td>\n",
       "    </tr>\n",
       "  </tbody>\n",
       "</table>\n",
       "<p>114789 rows × 13 columns</p>\n",
       "</div>"
      ],
      "text/plain": [
       "              Id  AdminRegion    EducationLevel Auyhiorty  \\\n",
       "0            1.0         حائل    التربية الخاصة     حكومي   \n",
       "1            2.0  مكة المكرمة  المرحلة المتوسطة     حكومي   \n",
       "2            3.0  مكة المكرمة    التربية الخاصة     حكومي   \n",
       "3            4.0         عسير    التربية الخاصة     حكومي   \n",
       "4            5.0  مكة المكرمة    التربية الخاصة     حكومي   \n",
       "...          ...          ...               ...       ...   \n",
       "140432  140433.0         عسير  المرحلة الثانوية     حكومي   \n",
       "140434  140435.0        الجوف  المرحلة الثانوية     حكومي   \n",
       "140435  140436.0  مكة المكرمة  المرحلة الثانوية     حكومي   \n",
       "140436  140437.0         حائل  المرحلة الثانوية     حكومي   \n",
       "140437  140438.0       الرياض  المرحلة الثانوية     حكومي   \n",
       "\n",
       "                               EducationOffice Gender  SchoolType  \\\n",
       "0                مكتب التربية والتعليم بالشمال   بنين  تربية خاصة   \n",
       "1       مكتب التربية والتعليم جنوب مكة المكرمة   بنات       نهاري   \n",
       "2                                      القنفذة   بنين  تربية خاصة   \n",
       "3                                        محايل   بنات  تربية خاصة   \n",
       "4                                      القنفذة   بنين  تربية خاصة   \n",
       "...                                        ...    ...         ...   \n",
       "140432                               خميس مشيط   بنات       نهاري   \n",
       "140434                   إدارة الإشراف التربوي   بنين       نهاري   \n",
       "140435            مكتب التعليم غرب مكة المكرمة   بنات       نهاري   \n",
       "140436                                شرق حائل   بنات       نهاري   \n",
       "140437                  مكتب التعليم بالقويعية   بنات       نهاري   \n",
       "\n",
       "       EducationType SchoolSystem  SaudiTeacher  NonSaudiTeacher  TotalTeach  \\\n",
       "0         تربية خاصة          عام           4.0              0.0         4.0   \n",
       "1         تعليم عام           عام          17.0              0.0        17.0   \n",
       "2         تربية خاصة          عام           6.0              0.0         6.0   \n",
       "3         تربية خاصة          عام           1.0              0.0         1.0   \n",
       "4         تربية خاصة          عام           1.0              0.0         1.0   \n",
       "...              ...          ...           ...              ...         ...   \n",
       "140432    تعليم عام        مقررات          35.0              0.0        35.0   \n",
       "140434    تعليم عام        مقررات           1.0              0.0         1.0   \n",
       "140435    تعليم عام        مقررات          44.0              0.0        44.0   \n",
       "140436    تعليم عام        مقررات          38.0              0.0        38.0   \n",
       "140437    تعليم عام        مقررات           8.0              0.0         8.0   \n",
       "\n",
       "          year  \n",
       "0       1437.0  \n",
       "1       1437.0  \n",
       "2       1437.0  \n",
       "3       1437.0  \n",
       "4       1437.0  \n",
       "...        ...  \n",
       "140432  1440.0  \n",
       "140434  1440.0  \n",
       "140435  1440.0  \n",
       "140436  1440.0  \n",
       "140437  1440.0  \n",
       "\n",
       "[114789 rows x 13 columns]"
      ]
     },
     "execution_count": 18,
     "metadata": {},
     "output_type": "execute_result"
    }
   ],
   "source": [
    "df[df[\"Auyhiorty\"] == \"حكومي\"]"
   ]
  },
  {
   "cell_type": "code",
   "execution_count": 19,
   "id": "7dc0adc3-8353-4443-8175-12c7760b6ebf",
   "metadata": {},
   "outputs": [],
   "source": [
    "precnt = df[\"Gender\"].value_counts()"
   ]
  },
  {
   "cell_type": "code",
   "execution_count": 20,
   "id": "a597c775-27be-4501-8092-4fb456efb11d",
   "metadata": {},
   "outputs": [
    {
     "data": {
      "text/plain": [
       "Gender\n",
       "بنات            77456\n",
       "بنين            62765\n",
       "مدارس الخارج      210\n",
       "Name: count, dtype: int64"
      ]
     },
     "execution_count": 20,
     "metadata": {},
     "output_type": "execute_result"
    }
   ],
   "source": [
    "precnt"
   ]
  },
  {
   "cell_type": "code",
   "execution_count": 21,
   "id": "dd02f0e5-2b15-45fa-a571-e8e2f7c13036",
   "metadata": {},
   "outputs": [
    {
     "data": {
      "text/plain": [
       "(-0.1, 2.1, -3652.3, 81318.3)"
      ]
     },
     "execution_count": 21,
     "metadata": {},
     "output_type": "execute_result"
    },
    {
     "data": {
      "image/png": "[encoded data removed]",
      "text/plain": [
       "<Figure size 640x480 with 1 Axes>"
      ]
     },
     "metadata": {},
     "output_type": "display_data"
    }
   ],
   "source": [
    "precnt.plot(title = \"Gender and Type\").axis()"
   ]
  },
  {
   "cell_type": "code",
   "execution_count": 40,
   "id": "b9491782-8daa-4cc8-8003-43df4506ee48",
   "metadata": {},
   "outputs": [],
   "source": [
    "fig = px.bar(x = precnt , title = \"Gender and Type\")"
   ]
  },
  {
   "cell_type": "code",
   "execution_count": 41,
   "id": "08d1ce6f-750f-42a3-bc7b-e8ef90ce7a72",
   "metadata": {},
   "outputs": [
    {
     "data": {
      "application/vnd.plotly.v1+json": {
       "config": {
        "plotlyServerURL": "https://plot.ly"
       },
       "data": [
        {
         "alignmentgroup": "True",
         "hovertemplate": "x=%{x}<br>y=%{y}<extra></extra>",
         "legendgroup": "",
         "marker": {
          "color": "#636efa",
          "pattern": {
           "shape": ""
          }
         },
         "name": "",
         "offsetgroup": "",
         "orientation": "h",
         "showlegend": false,
         "textposition": "auto",
         "type": "bar",
         "x": [
          77456,
          62765,
          210
         ],
         "xaxis": "x",
         "y": [
          0,
          1,
          2
         ],
         "yaxis": "y"
        }
       ],
       "layout": {
        "autosize": true,
        "barmode": "relative",
        "legend": {
         "tracegroupgap": 0
        },
        "template": {
         "data": {
          "bar": [
           {
            "error_x": {
             "color": "#2a3f5f"
            },
            "error_y": {
             "color": "#2a3f5f"
            },
            "marker": {
             "line": {
              "color": "#E5ECF6",
              "width": 0.5
             },
             "pattern": {
              "fillmode": "overlay",
              "size": 10,
              "solidity": 0.2
             }
            },
            "type": "bar"
           }
          ],
          "barpolar": [
           {
            "marker": {
             "line": {
              "color": "#E5ECF6",
              "width": 0.5
             },
             "pattern": {
              "fillmode": "overlay",
              "size": 10,
              "solidity": 0.2
             }
            },
            "type": "barpolar"
           }
          ],
          "carpet": [
           {
            "aaxis": {
             "endlinecolor": "#2a3f5f",
             "gridcolor": "white",
             "linecolor": "white",
             "minorgridcolor": "white",
             "startlinecolor": "#2a3f5f"
            },
            "baxis": {
             "endlinecolor": "#2a3f5f",
             "gridcolor": "white",
             "linecolor": "white",
             "minorgridcolor": "white",
             "startlinecolor": "#2a3f5f"
            },
            "type": "carpet"
           }
          ],
          "choropleth": [
           {
            "colorbar": {
             "outlinewidth": 0,
             "ticks": ""
            },
            "type": "choropleth"
           }
          ],
          "contour": [
           {
            "colorbar": {
             "outlinewidth": 0,
             "ticks": ""
            },
            "colorscale": [
             [
              0,
              "#0d0887"
             ],
             [
              0.1111111111111111,
              "#46039f"
             ],
             [
              0.2222222222222222,
              "#7201a8"
             ],
             [
              0.3333333333333333,
              "#9c179e"
             ],
             [
              0.4444444444444444,
              "#bd3786"
             ],
             [
              0.5555555555555556,
              "#d8576b"
             ],
             [
              0.6666666666666666,
              "#ed7953"
             ],
             [
              0.7777777777777778,
              "#fb9f3a"
             ],
             [
              0.8888888888888888,
              "#fdca26"
             ],
             [
              1,
              "#f0f921"
             ]
            ],
            "type": "contour"
           }
          ],
          "contourcarpet": [
           {
            "colorbar": {
             "outlinewidth": 0,
             "ticks": ""
            },
            "type": "contourcarpet"
           }
          ],
          "heatmap": [
           {
            "colorbar": {
             "outlinewidth": 0,
             "ticks": ""
            },
            "colorscale": [
             [
              0,
              "#0d0887"
             ],
             [
              0.1111111111111111,
              "#46039f"
             ],
             [
              0.2222222222222222,
              "#7201a8"
             ],
             [
              0.3333333333333333,
              "#9c179e"
             ],
             [
              0.4444444444444444,
              "#bd3786"
             ],
             [
              0.5555555555555556,
              "#d8576b"
             ],
             [
              0.6666666666666666,
              "#ed7953"
             ],
             [
              0.7777777777777778,
              "#fb9f3a"
             ],
             [
              0.8888888888888888,
              "#fdca26"
             ],
             [
              1,
              "#f0f921"
             ]
            ],
            "type": "heatmap"
           }
          ],
          "heatmapgl": [
           {
            "colorbar": {
             "outlinewidth": 0,
             "ticks": ""
            },
            "colorscale": [
             [
              0,
              "#0d0887"
             ],
             [
              0.1111111111111111,
              "#46039f"
             ],
             [
              0.2222222222222222,
              "#7201a8"
             ],
             [
              0.3333333333333333,
              "#9c179e"
             ],
             [
              0.4444444444444444,
              "#bd3786"
             ],
             [
              0.5555555555555556,
              "#d8576b"
             ],
             [
              0.6666666666666666,
              "#ed7953"
             ],
             [
              0.7777777777777778,
              "#fb9f3a"
             ],
             [
              0.8888888888888888,
              "#fdca26"
             ],
             [
              1,
              "#f0f921"
             ]
            ],
            "type": "heatmapgl"
           }
          ],
          "histogram": [
           {
            "marker": {
             "pattern": {
              "fillmode": "overlay",
              "size": 10,
              "solidity": 0.2
             }
            },
            "type": "histogram"
           }
          ],
          "histogram2d": [
           {
            "colorbar": {
             "outlinewidth": 0,
             "ticks": ""
            },
            "colorscale": [
             [
              0,
              "#0d0887"
             ],
             [
              0.1111111111111111,
              "#46039f"
             ],
             [
              0.2222222222222222,
              "#7201a8"
             ],
             [
              0.3333333333333333,
              "#9c179e"
             ],
             [
              0.4444444444444444,
              "#bd3786"
             ],
             [
              0.5555555555555556,
              "#d8576b"
             ],
             [
              0.6666666666666666,
              "#ed7953"
             ],
             [
              0.7777777777777778,
              "#fb9f3a"
             ],
             [
              0.8888888888888888,
              "#fdca26"
             ],
             [
              1,
              "#f0f921"
             ]
            ],
            "type": "histogram2d"
           }
          ],
          "histogram2dcontour": [
           {
            "colorbar": {
             "outlinewidth": 0,
             "ticks": ""
            },
            "colorscale": [
             [
              0,
              "#0d0887"
             ],
             [
              0.1111111111111111,
              "#46039f"
             ],
             [
              0.2222222222222222,
              "#7201a8"
             ],
             [
              0.3333333333333333,
              "#9c179e"
             ],
             [
              0.4444444444444444,
              "#bd3786"
             ],
             [
              0.5555555555555556,
              "#d8576b"
             ],
             [
              0.6666666666666666,
              "#ed7953"
             ],
             [
              0.7777777777777778,
              "#fb9f3a"
             ],
             [
              0.8888888888888888,
              "#fdca26"
             ],
             [
              1,
              "#f0f921"
             ]
            ],
            "type": "histogram2dcontour"
           }
          ],
          "mesh3d": [
           {
            "colorbar": {
             "outlinewidth": 0,
             "ticks": ""
            },
            "type": "mesh3d"
           }
          ],
          "parcoords": [
           {
            "line": {
             "colorbar": {
              "outlinewidth": 0,
              "ticks": ""
             }
            },
            "type": "parcoords"
           }
          ],
          "pie": [
           {
            "automargin": true,
            "type": "pie"
           }
          ],
          "scatter": [
           {
            "fillpattern": {
             "fillmode": "overlay",
             "size": 10,
             "solidity": 0.2
            },
            "type": "scatter"
           }
          ],
          "scatter3d": [
           {
            "line": {
             "colorbar": {
              "outlinewidth": 0,
              "ticks": ""
             }
            },
            "marker": {
             "colorbar": {
              "outlinewidth": 0,
              "ticks": ""
             }
            },
            "type": "scatter3d"
           }
          ],
          "scattercarpet": [
           {
            "marker": {
             "colorbar": {
              "outlinewidth": 0,
              "ticks": ""
             }
            },
            "type": "scattercarpet"
           }
          ],
          "scattergeo": [
           {
            "marker": {
             "colorbar": {
              "outlinewidth": 0,
              "ticks": ""
             }
            },
            "type": "scattergeo"
           }
          ],
          "scattergl": [
           {
            "marker": {
             "colorbar": {
              "outlinewidth": 0,
              "ticks": ""
             }
            },
            "type": "scattergl"
           }
          ],
          "scattermapbox": [
           {
            "marker": {
             "colorbar": {
              "outlinewidth": 0,
              "ticks": ""
             }
            },
            "type": "scattermapbox"
           }
          ],
          "scatterpolar": [
           {
            "marker": {
             "colorbar": {
              "outlinewidth": 0,
              "ticks": ""
             }
            },
            "type": "scatterpolar"
           }
          ],
          "scatterpolargl": [
           {
            "marker": {
             "colorbar": {
              "outlinewidth": 0,
              "ticks": ""
             }
            },
            "type": "scatterpolargl"
           }
          ],
          "scatterternary": [
           {
            "marker": {
             "colorbar": {
              "outlinewidth": 0,
              "ticks": ""
             }
            },
            "type": "scatterternary"
           }
          ],
          "surface": [
           {
            "colorbar": {
             "outlinewidth": 0,
             "ticks": ""
            },
            "colorscale": [
             [
              0,
              "#0d0887"
             ],
             [
              0.1111111111111111,
              "#46039f"
             ],
             [
              0.2222222222222222,
              "#7201a8"
             ],
             [
              0.3333333333333333,
              "#9c179e"
             ],
             [
              0.4444444444444444,
              "#bd3786"
             ],
             [
              0.5555555555555556,
              "#d8576b"
             ],
             [
              0.6666666666666666,
              "#ed7953"
             ],
             [
              0.7777777777777778,
              "#fb9f3a"
             ],
             [
              0.8888888888888888,
              "#fdca26"
             ],
             [
              1,
              "#f0f921"
             ]
            ],
            "type": "surface"
           }
          ],
          "table": [
           {
            "cells": {
             "fill": {
              "color": "#EBF0F8"
             },
             "line": {
              "color": "white"
             }
            },
            "header": {
             "fill": {
              "color": "#C8D4E3"
             },
             "line": {
              "color": "white"
             }
            },
            "type": "table"
           }
          ]
         },
         "layout": {
          "annotationdefaults": {
           "arrowcolor": "#2a3f5f",
           "arrowhead": 0,
           "arrowwidth": 1
          },
          "autotypenumbers": "strict",
          "coloraxis": {
           "colorbar": {
            "outlinewidth": 0,
            "ticks": ""
           }
          },
          "colorscale": {
           "diverging": [
            [
             0,
             "#8e0152"
            ],
            [
             0.1,
             "#c51b7d"
            ],
            [
             0.2,
             "#de77ae"
            ],
            [
             0.3,
             "#f1b6da"
            ],
            [
             0.4,
             "#fde0ef"
            ],
            [
             0.5,
             "#f7f7f7"
            ],
            [
             0.6,
             "#e6f5d0"
            ],
            [
             0.7,
             "#b8e186"
            ],
            [
             0.8,
             "#7fbc41"
            ],
            [
             0.9,
             "#4d9221"
            ],
            [
             1,
             "#276419"
            ]
           ],
           "sequential": [
            [
             0,
             "#0d0887"
            ],
            [
             0.1111111111111111,
             "#46039f"
            ],
            [
             0.2222222222222222,
             "#7201a8"
            ],
            [
             0.3333333333333333,
             "#9c179e"
            ],
            [
             0.4444444444444444,
             "#bd3786"
            ],
            [
             0.5555555555555556,
             "#d8576b"
            ],
            [
             0.6666666666666666,
             "#ed7953"
            ],
            [
             0.7777777777777778,
             "#fb9f3a"
            ],
            [
             0.8888888888888888,
             "#fdca26"
            ],
            [
             1,
             "#f0f921"
            ]
           ],
           "sequentialminus": [
            [
             0,
             "#0d0887"
            ],
            [
             0.1111111111111111,
             "#46039f"
            ],
            [
             0.2222222222222222,
             "#7201a8"
            ],
            [
             0.3333333333333333,
             "#9c179e"
            ],
            [
             0.4444444444444444,
             "#bd3786"
            ],
            [
             0.5555555555555556,
             "#d8576b"
            ],
            [
             0.6666666666666666,
             "#ed7953"
            ],
            [
             0.7777777777777778,
             "#fb9f3a"
            ],
            [
             0.8888888888888888,
             "#fdca26"
            ],
            [
             1,
             "#f0f921"
            ]
           ]
          },
          "colorway": [
           "#636efa",
           "#EF553B",
           "#00cc96",
           "#ab63fa",
           "#FFA15A",
           "#19d3f3",
           "#FF6692",
           "#B6E880",
           "#FF97FF",
           "#FECB52"
          ],
          "font": {
           "color": "#2a3f5f"
          },
          "geo": {
           "bgcolor": "white",
           "lakecolor": "white",
           "landcolor": "#E5ECF6",
           "showlakes": true,
           "showland": true,
           "subunitcolor": "white"
          },
          "hoverlabel": {
           "align": "left"
          },
          "hovermode": "closest",
          "mapbox": {
           "style": "light"
          },
          "paper_bgcolor": "white",
          "plot_bgcolor": "#E5ECF6",
          "polar": {
           "angularaxis": {
            "gridcolor": "white",
            "linecolor": "white",
            "ticks": ""
           },
           "bgcolor": "#E5ECF6",
           "radialaxis": {
            "gridcolor": "white",
            "linecolor": "white",
            "ticks": ""
           }
          },
          "scene": {
           "xaxis": {
            "backgroundcolor": "#E5ECF6",
            "gridcolor": "white",
            "gridwidth": 2,
            "linecolor": "white",
            "showbackground": true,
            "ticks": "",
            "zerolinecolor": "white"
           },
           "yaxis": {
            "backgroundcolor": "#E5ECF6",
            "gridcolor": "white",
            "gridwidth": 2,
            "linecolor": "white",
            "showbackground": true,
            "ticks": "",
            "zerolinecolor": "white"
           },
           "zaxis": {
            "backgroundcolor": "#E5ECF6",
            "gridcolor": "white",
            "gridwidth": 2,
            "linecolor": "white",
            "showbackground": true,
            "ticks": "",
            "zerolinecolor": "white"
           }
          },
          "shapedefaults": {
           "line": {
            "color": "#2a3f5f"
           }
          },
          "ternary": {
           "aaxis": {
            "gridcolor": "white",
            "linecolor": "white",
            "ticks": ""
           },
           "baxis": {
            "gridcolor": "white",
            "linecolor": "white",
            "ticks": ""
           },
           "bgcolor": "#E5ECF6",
           "caxis": {
            "gridcolor": "white",
            "linecolor": "white",
            "ticks": ""
           }
          },
          "title": {
           "x": 0.05
          },
          "xaxis": {
           "automargin": true,
           "gridcolor": "white",
           "linecolor": "white",
           "ticks": "",
           "title": {
            "standoff": 15
           },
           "zerolinecolor": "white",
           "zerolinewidth": 2
          },
          "yaxis": {
           "automargin": true,
           "gridcolor": "white",
           "linecolor": "white",
           "ticks": "",
           "title": {
            "standoff": 15
           },
           "zerolinecolor": "white",
           "zerolinewidth": 2
          }
         }
        },
        "title": {
         "text": "Gender and Type"
        },
        "xaxis": {
         "anchor": "y",
         "autorange": true,
         "domain": [
          0,
          1
         ],
         "range": [
          0,
          81532.63157894737
         ],
         "title": {
          "text": "x"
         },
         "type": "linear"
        },
        "yaxis": {
         "anchor": "x",
         "autorange": true,
         "domain": [
          0,
          1
         ],
         "range": [
          -0.5,
          2.5
         ],
         "title": {
          "text": "y"
         },
         "type": "linear"
        }
       }
      },
      "image/png": "[encoded data removed]",
      "text/html": [
       "<div>                            <div id=\"9d562018-734b-40aa-92ab-0141592d6fe0\" class=\"plotly-graph-div\" style=\"height:525px; width:100%;\"></div>            <script type=\"text/javascript\">                require([\"plotly\"], function(Plotly) {                    window.PLOTLYENV=window.PLOTLYENV || {};                                    if (document.getElementById(\"9d562018-734b-40aa-92ab-0141592d6fe0\")) {                    Plotly.newPlot(                        \"9d562018-734b-40aa-92ab-0141592d6fe0\",                        [{\"alignmentgroup\":\"True\",\"hovertemplate\":\"x=%{x}<br>y=%{y}<extra></extra>\",\"legendgroup\":\"\",\"marker\":{\"color\":\"#636efa\",\"pattern\":{\"shape\":\"\"}},\"name\":\"\",\"offsetgroup\":\"\",\"orientation\":\"h\",\"showlegend\":false,\"textposition\":\"auto\",\"x\":[77456,62765,210],\"xaxis\":\"x\",\"y\":[0,1,2],\"yaxis\":\"y\",\"type\":\"bar\"}],                        {\"template\":{\"data\":{\"histogram2dcontour\":[{\"type\":\"histogram2dcontour\",\"colorbar\":{\"outlinewidth\":0,\"ticks\":\"\"},\"colorscale\":[[0.0,\"#0d0887\"],[0.1111111111111111,\"#46039f\"],[0.2222222222222222,\"#7201a8\"],[0.3333333333333333,\"#9c179e\"],[0.4444444444444444,\"#bd3786\"],[0.5555555555555556,\"#d8576b\"],[0.6666666666666666,\"#ed7953\"],[0.7777777777777778,\"#fb9f3a\"],[0.8888888888888888,\"#fdca26\"],[1.0,\"#f0f921\"]]}],\"choropleth\":[{\"type\":\"choropleth\",\"colorbar\":{\"outlinewidth\":0,\"ticks\":\"\"}}],\"histogram2d\":[{\"type\":\"histogram2d\",\"colorbar\":{\"outlinewidth\":0,\"ticks\":\"\"},\"colorscale\":[[0.0,\"#0d0887\"],[0.1111111111111111,\"#46039f\"],[0.2222222222222222,\"#7201a8\"],[0.3333333333333333,\"#9c179e\"],[0.4444444444444444,\"#bd3786\"],[0.5555555555555556,\"#d8576b\"],[0.6666666666666666,\"#ed7953\"],[0.7777777777777778,\"#fb9f3a\"],[0.8888888888888888,\"#fdca26\"],[1.0,\"#f0f921\"]]}],\"heatmap\":[{\"type\":\"heatmap\",\"colorbar\":{\"outlinewidth\":0,\"ticks\":\"\"},\"colorscale\":[[0.0,\"#0d0887\"],[0.1111111111111111,\"#46039f\"],[0.2222222222222222,\"#7201a8\"],[0.3333333333333333,\"#9c179e\"],[0.4444444444444444,\"#bd3786\"],[0.5555555555555556,\"#d8576b\"],[0.6666666666666666,\"#ed7953\"],[0.7777777777777778,\"#fb9f3a\"],[0.8888888888888888,\"#fdca26\"],[1.0,\"#f0f921\"]]}],\"heatmapgl\":[{\"type\":\"heatmapgl\",\"colorbar\":{\"outlinewidth\":0,\"ticks\":\"\"},\"colorscale\":[[0.0,\"#0d0887\"],[0.1111111111111111,\"#46039f\"],[0.2222222222222222,\"#7201a8\"],[0.3333333333333333,\"#9c179e\"],[0.4444444444444444,\"#bd3786\"],[0.5555555555555556,\"#d8576b\"],[0.6666666666666666,\"#ed7953\"],[0.7777777777777778,\"#fb9f3a\"],[0.8888888888888888,\"#fdca26\"],[1.0,\"#f0f921\"]]}],\"contourcarpet\":[{\"type\":\"contourcarpet\",\"colorbar\":{\"outlinewidth\":0,\"ticks\":\"\"}}],\"contour\":[{\"type\":\"contour\",\"colorbar\":{\"outlinewidth\":0,\"ticks\":\"\"},\"colorscale\":[[0.0,\"#0d0887\"],[0.1111111111111111,\"#46039f\"],[0.2222222222222222,\"#7201a8\"],[0.3333333333333333,\"#9c179e\"],[0.4444444444444444,\"#bd3786\"],[0.5555555555555556,\"#d8576b\"],[0.6666666666666666,\"#ed7953\"],[0.7777777777777778,\"#fb9f3a\"],[0.8888888888888888,\"#fdca26\"],[1.0,\"#f0f921\"]]}],\"surface\":[{\"type\":\"surface\",\"colorbar\":{\"outlinewidth\":0,\"ticks\":\"\"},\"colorscale\":[[0.0,\"#0d0887\"],[0.1111111111111111,\"#46039f\"],[0.2222222222222222,\"#7201a8\"],[0.3333333333333333,\"#9c179e\"],[0.4444444444444444,\"#bd3786\"],[0.5555555555555556,\"#d8576b\"],[0.6666666666666666,\"#ed7953\"],[0.7777777777777778,\"#fb9f3a\"],[0.8888888888888888,\"#fdca26\"],[1.0,\"#f0f921\"]]}],\"mesh3d\":[{\"type\":\"mesh3d\",\"colorbar\":{\"outlinewidth\":0,\"ticks\":\"\"}}],\"scatter\":[{\"fillpattern\":{\"fillmode\":\"overlay\",\"size\":10,\"solidity\":0.2},\"type\":\"scatter\"}],\"parcoords\":[{\"type\":\"parcoords\",\"line\":{\"colorbar\":{\"outlinewidth\":0,\"ticks\":\"\"}}}],\"scatterpolargl\":[{\"type\":\"scatterpolargl\",\"marker\":{\"colorbar\":{\"outlinewidth\":0,\"ticks\":\"\"}}}],\"bar\":[{\"error_x\":{\"color\":\"#2a3f5f\"},\"error_y\":{\"color\":\"#2a3f5f\"},\"marker\":{\"line\":{\"color\":\"#E5ECF6\",\"width\":0.5},\"pattern\":{\"fillmode\":\"overlay\",\"size\":10,\"solidity\":0.2}},\"type\":\"bar\"}],\"scattergeo\":[{\"type\":\"scattergeo\",\"marker\":{\"colorbar\":{\"outlinewidth\":0,\"ticks\":\"\"}}}],\"scatterpolar\":[{\"type\":\"scatterpolar\",\"marker\":{\"colorbar\":{\"outlinewidth\":0,\"ticks\":\"\"}}}],\"histogram\":[{\"marker\":{\"pattern\":{\"fillmode\":\"overlay\",\"size\":10,\"solidity\":0.2}},\"type\":\"histogram\"}],\"scattergl\":[{\"type\":\"scattergl\",\"marker\":{\"colorbar\":{\"outlinewidth\":0,\"ticks\":\"\"}}}],\"scatter3d\":[{\"type\":\"scatter3d\",\"line\":{\"colorbar\":{\"outlinewidth\":0,\"ticks\":\"\"}},\"marker\":{\"colorbar\":{\"outlinewidth\":0,\"ticks\":\"\"}}}],\"scattermapbox\":[{\"type\":\"scattermapbox\",\"marker\":{\"colorbar\":{\"outlinewidth\":0,\"ticks\":\"\"}}}],\"scatterternary\":[{\"type\":\"scatterternary\",\"marker\":{\"colorbar\":{\"outlinewidth\":0,\"ticks\":\"\"}}}],\"scattercarpet\":[{\"type\":\"scattercarpet\",\"marker\":{\"colorbar\":{\"outlinewidth\":0,\"ticks\":\"\"}}}],\"carpet\":[{\"aaxis\":{\"endlinecolor\":\"#2a3f5f\",\"gridcolor\":\"white\",\"linecolor\":\"white\",\"minorgridcolor\":\"white\",\"startlinecolor\":\"#2a3f5f\"},\"baxis\":{\"endlinecolor\":\"#2a3f5f\",\"gridcolor\":\"white\",\"linecolor\":\"white\",\"minorgridcolor\":\"white\",\"startlinecolor\":\"#2a3f5f\"},\"type\":\"carpet\"}],\"table\":[{\"cells\":{\"fill\":{\"color\":\"#EBF0F8\"},\"line\":{\"color\":\"white\"}},\"header\":{\"fill\":{\"color\":\"#C8D4E3\"},\"line\":{\"color\":\"white\"}},\"type\":\"table\"}],\"barpolar\":[{\"marker\":{\"line\":{\"color\":\"#E5ECF6\",\"width\":0.5},\"pattern\":{\"fillmode\":\"overlay\",\"size\":10,\"solidity\":0.2}},\"type\":\"barpolar\"}],\"pie\":[{\"automargin\":true,\"type\":\"pie\"}]},\"layout\":{\"autotypenumbers\":\"strict\",\"colorway\":[\"#636efa\",\"#EF553B\",\"#00cc96\",\"#ab63fa\",\"#FFA15A\",\"#19d3f3\",\"#FF6692\",\"#B6E880\",\"#FF97FF\",\"#FECB52\"],\"font\":{\"color\":\"#2a3f5f\"},\"hovermode\":\"closest\",\"hoverlabel\":{\"align\":\"left\"},\"paper_bgcolor\":\"white\",\"plot_bgcolor\":\"#E5ECF6\",\"polar\":{\"bgcolor\":\"#E5ECF6\",\"angularaxis\":{\"gridcolor\":\"white\",\"linecolor\":\"white\",\"ticks\":\"\"},\"radialaxis\":{\"gridcolor\":\"white\",\"linecolor\":\"white\",\"ticks\":\"\"}},\"ternary\":{\"bgcolor\":\"#E5ECF6\",\"aaxis\":{\"gridcolor\":\"white\",\"linecolor\":\"white\",\"ticks\":\"\"},\"baxis\":{\"gridcolor\":\"white\",\"linecolor\":\"white\",\"ticks\":\"\"},\"caxis\":{\"gridcolor\":\"white\",\"linecolor\":\"white\",\"ticks\":\"\"}},\"coloraxis\":{\"colorbar\":{\"outlinewidth\":0,\"ticks\":\"\"}},\"colorscale\":{\"sequential\":[[0.0,\"#0d0887\"],[0.1111111111111111,\"#46039f\"],[0.2222222222222222,\"#7201a8\"],[0.3333333333333333,\"#9c179e\"],[0.4444444444444444,\"#bd3786\"],[0.5555555555555556,\"#d8576b\"],[0.6666666666666666,\"#ed7953\"],[0.7777777777777778,\"#fb9f3a\"],[0.8888888888888888,\"#fdca26\"],[1.0,\"#f0f921\"]],\"sequentialminus\":[[0.0,\"#0d0887\"],[0.1111111111111111,\"#46039f\"],[0.2222222222222222,\"#7201a8\"],[0.3333333333333333,\"#9c179e\"],[0.4444444444444444,\"#bd3786\"],[0.5555555555555556,\"#d8576b\"],[0.6666666666666666,\"#ed7953\"],[0.7777777777777778,\"#fb9f3a\"],[0.8888888888888888,\"#fdca26\"],[1.0,\"#f0f921\"]],\"diverging\":[[0,\"#8e0152\"],[0.1,\"#c51b7d\"],[0.2,\"#de77ae\"],[0.3,\"#f1b6da\"],[0.4,\"#fde0ef\"],[0.5,\"#f7f7f7\"],[0.6,\"#e6f5d0\"],[0.7,\"#b8e186\"],[0.8,\"#7fbc41\"],[0.9,\"#4d9221\"],[1,\"#276419\"]]},\"xaxis\":{\"gridcolor\":\"white\",\"linecolor\":\"white\",\"ticks\":\"\",\"title\":{\"standoff\":15},\"zerolinecolor\":\"white\",\"automargin\":true,\"zerolinewidth\":2},\"yaxis\":{\"gridcolor\":\"white\",\"linecolor\":\"white\",\"ticks\":\"\",\"title\":{\"standoff\":15},\"zerolinecolor\":\"white\",\"automargin\":true,\"zerolinewidth\":2},\"scene\":{\"xaxis\":{\"backgroundcolor\":\"#E5ECF6\",\"gridcolor\":\"white\",\"linecolor\":\"white\",\"showbackground\":true,\"ticks\":\"\",\"zerolinecolor\":\"white\",\"gridwidth\":2},\"yaxis\":{\"backgroundcolor\":\"#E5ECF6\",\"gridcolor\":\"white\",\"linecolor\":\"white\",\"showbackground\":true,\"ticks\":\"\",\"zerolinecolor\":\"white\",\"gridwidth\":2},\"zaxis\":{\"backgroundcolor\":\"#E5ECF6\",\"gridcolor\":\"white\",\"linecolor\":\"white\",\"showbackground\":true,\"ticks\":\"\",\"zerolinecolor\":\"white\",\"gridwidth\":2}},\"shapedefaults\":{\"line\":{\"color\":\"#2a3f5f\"}},\"annotationdefaults\":{\"arrowcolor\":\"#2a3f5f\",\"arrowhead\":0,\"arrowwidth\":1},\"geo\":{\"bgcolor\":\"white\",\"landcolor\":\"#E5ECF6\",\"subunitcolor\":\"white\",\"showland\":true,\"showlakes\":true,\"lakecolor\":\"white\"},\"title\":{\"x\":0.05},\"mapbox\":{\"style\":\"light\"}}},\"xaxis\":{\"anchor\":\"y\",\"domain\":[0.0,1.0],\"title\":{\"text\":\"x\"}},\"yaxis\":{\"anchor\":\"x\",\"domain\":[0.0,1.0],\"title\":{\"text\":\"y\"}},\"legend\":{\"tracegroupgap\":0},\"title\":{\"text\":\"Gender and Type\"},\"barmode\":\"relative\"},                        {\"responsive\": true}                    ).then(function(){\n",
       "                            \n",
       "var gd = document.getElementById('9d562018-734b-40aa-92ab-0141592d6fe0');\n",
       "var x = new MutationObserver(function (mutations, observer) {{\n",
       "        var display = window.getComputedStyle(gd).display;\n",
       "        if (!display || display === 'none') {{\n",
       "            console.log([gd, 'removed!']);\n",
       "            Plotly.purge(gd);\n",
       "            observer.disconnect();\n",
       "        }}\n",
       "}});\n",
       "\n",
       "// Listen for the removal of the full notebook cells\n",
       "var notebookContainer = gd.closest('#notebook-container');\n",
       "if (notebookContainer) {{\n",
       "    x.observe(notebookContainer, {childList: true});\n",
       "}}\n",
       "\n",
       "// Listen for the clearing of the current output cell\n",
       "var outputEl = gd.closest('.output');\n",
       "if (outputEl) {{\n",
       "    x.observe(outputEl, {childList: true});\n",
       "}}\n",
       "\n",
       "                        })                };                });            </script>        </div>"
      ]
     },
     "metadata": {},
     "output_type": "display_data"
    }
   ],
   "source": [
    "fig.show()"
   ]
  },
  {
   "cell_type": "code",
   "execution_count": 24,
   "id": "fca0f4ff-59a2-46c0-9818-ebfedfb1e7bf",
   "metadata": {},
   "outputs": [],
   "source": [
    "prcsent2 = df[\"AdminRegion\"].value_counts()"
   ]
  },
  {
   "cell_type": "code",
   "execution_count": 25,
   "id": "e05dc71a-3860-404b-b0b5-96729b53f445",
   "metadata": {
    "scrolled": true
   },
   "outputs": [
    {
     "data": {
      "text/plain": [
       "AdminRegion\n",
       "الرياض             31617\n",
       "مكة المكرمة        26944\n",
       "عسير               15460\n",
       "الشرقية            15034\n",
       "المدينة المنورة    10012\n",
       "القصيم              9449\n",
       "جازان               9229\n",
       "حائل                5302\n",
       "تبوك                4717\n",
       "الباحة              4220\n",
       "الجوف               3442\n",
       "نجران               2933\n",
       "الحدود الشمالية     2072\n",
       "Name: count, dtype: int64"
      ]
     },
     "execution_count": 25,
     "metadata": {},
     "output_type": "execute_result"
    }
   ],
   "source": [
    "prcsent2"
   ]
  },
  {
   "cell_type": "code",
   "execution_count": 26,
   "id": "89d2ef54-e469-4dc5-8104-c9cac5347410",
   "metadata": {},
   "outputs": [
    {
     "data": {
      "text/plain": [
       "<Axes: title={'center': 'Regions'}, xlabel='AdminRegion'>"
      ]
     },
     "execution_count": 26,
     "metadata": {},
     "output_type": "execute_result"
    },
    {
     "data": {
      "image/png": "[encoded data removed]",
      "text/plain": [
       "<Figure size 640x480 with 1 Axes>"
      ]
     },
     "metadata": {},
     "output_type": "display_data"
    }
   ],
   "source": [
    "prcsent2.plot(kind = \"bar\" , title = \"Regions\")"
   ]
  },
  {
   "cell_type": "code",
   "execution_count": 27,
   "id": "34e2ee58-867f-40a0-a3d5-a6b865db8d8f",
   "metadata": {},
   "outputs": [
    {
     "data": {
      "text/plain": [
       "31617"
      ]
     },
     "execution_count": 27,
     "metadata": {},
     "output_type": "execute_result"
    }
   ],
   "source": [
    "df[\"AdminRegion\"].value_counts().max()"
   ]
  },
  {
   "cell_type": "markdown",
   "id": "fbd32f01-42f1-4aac-aad9-a2e9cccc4954",
   "metadata": {},
   "source": [
    "#Feature Engineering\n",
    "\n",
    "     |\n",
    "     |\n",
    "     -\n",
    "     V"
   ]
  },
  {
   "cell_type": "code",
   "execution_count": null,
   "id": "cfb1e154-d769-42e4-a073-2ec8f8f85aa5",
   "metadata": {},
   "outputs": [],
   "source": [
    "fig = px.line(precnt , title = \"Gender and Type\")"
   ]
  },
  {
   "cell_type": "code",
   "execution_count": 51,
   "id": "9db5d630-819f-4196-9090-72e5cb181a98",
   "metadata": {},
   "outputs": [
    {
     "data": {
      "application/vnd.plotly.v1+json": {
       "config": {
        "plotlyServerURL": "https://plot.ly"
       },
       "data": [
        {
         "hovertemplate": "variable=count<br>Gender=%{x}<br>value=%{y}<extra></extra>",
         "legendgroup": "count",
         "line": {
          "color": "#636efa",
          "dash": "solid"
         },
         "marker": {
          "symbol": "circle"
         },
         "mode": "lines",
         "name": "count",
         "orientation": "v",
         "showlegend": true,
         "type": "scatter",
         "x": [
          "بنات",
          "بنين",
          "مدارس الخارج"
         ],
         "xaxis": "x",
         "y": [
          77456,
          62765,
          210
         ],
         "yaxis": "y"
        }
       ],
       "layout": {
        "autosize": true,
        "legend": {
         "title": {
          "text": "variable"
         },
         "tracegroupgap": 0
        },
        "template": {
         "data": {
          "bar": [
           {
            "error_x": {
             "color": "#2a3f5f"
            },
            "error_y": {
             "color": "#2a3f5f"
            },
            "marker": {
             "line": {
              "color": "#E5ECF6",
              "width": 0.5
             },
             "pattern": {
              "fillmode": "overlay",
              "size": 10,
              "solidity": 0.2
             }
            },
            "type": "bar"
           }
          ],
          "barpolar": [
           {
            "marker": {
             "line": {
              "color": "#E5ECF6",
              "width": 0.5
             },
             "pattern": {
              "fillmode": "overlay",
              "size": 10,
              "solidity": 0.2
             }
            },
            "type": "barpolar"
           }
          ],
          "carpet": [
           {
            "aaxis": {
             "endlinecolor": "#2a3f5f",
             "gridcolor": "white",
             "linecolor": "white",
             "minorgridcolor": "white",
             "startlinecolor": "#2a3f5f"
            },
            "baxis": {
             "endlinecolor": "#2a3f5f",
             "gridcolor": "white",
             "linecolor": "white",
             "minorgridcolor": "white",
             "startlinecolor": "#2a3f5f"
            },
            "type": "carpet"
           }
          ],
          "choropleth": [
           {
            "colorbar": {
             "outlinewidth": 0,
             "ticks": ""
            },
            "type": "choropleth"
           }
          ],
          "contour": [
           {
            "colorbar": {
             "outlinewidth": 0,
             "ticks": ""
            },
            "colorscale": [
             [
              0,
              "#0d0887"
             ],
             [
              0.1111111111111111,
              "#46039f"
             ],
             [
              0.2222222222222222,
              "#7201a8"
             ],
             [
              0.3333333333333333,
              "#9c179e"
             ],
             [
              0.4444444444444444,
              "#bd3786"
             ],
             [
              0.5555555555555556,
              "#d8576b"
             ],
             [
              0.6666666666666666,
              "#ed7953"
             ],
             [
              0.7777777777777778,
              "#fb9f3a"
             ],
             [
              0.8888888888888888,
              "#fdca26"
             ],
             [
              1,
              "#f0f921"
             ]
            ],
            "type": "contour"
           }
          ],
          "contourcarpet": [
           {
            "colorbar": {
             "outlinewidth": 0,
             "ticks": ""
            },
            "type": "contourcarpet"
           }
          ],
          "heatmap": [
           {
            "colorbar": {
             "outlinewidth": 0,
             "ticks": ""
            },
            "colorscale": [
             [
              0,
              "#0d0887"
             ],
             [
              0.1111111111111111,
              "#46039f"
             ],
             [
              0.2222222222222222,
              "#7201a8"
             ],
             [
              0.3333333333333333,
              "#9c179e"
             ],
             [
              0.4444444444444444,
              "#bd3786"
             ],
             [
              0.5555555555555556,
              "#d8576b"
             ],
             [
              0.6666666666666666,
              "#ed7953"
             ],
             [
              0.7777777777777778,
              "#fb9f3a"
             ],
             [
              0.8888888888888888,
              "#fdca26"
             ],
             [
              1,
              "#f0f921"
             ]
            ],
            "type": "heatmap"
           }
          ],
          "heatmapgl": [
           {
            "colorbar": {
             "outlinewidth": 0,
             "ticks": ""
            },
            "colorscale": [
             [
              0,
              "#0d0887"
             ],
             [
              0.1111111111111111,
              "#46039f"
             ],
             [
              0.2222222222222222,
              "#7201a8"
             ],
             [
              0.3333333333333333,
              "#9c179e"
             ],
             [
              0.4444444444444444,
              "#bd3786"
             ],
             [
              0.5555555555555556,
              "#d8576b"
             ],
             [
              0.6666666666666666,
              "#ed7953"
             ],
             [
              0.7777777777777778,
              "#fb9f3a"
             ],
             [
              0.8888888888888888,
              "#fdca26"
             ],
             [
              1,
              "#f0f921"
             ]
            ],
            "type": "heatmapgl"
           }
          ],
          "histogram": [
           {
            "marker": {
             "pattern": {
              "fillmode": "overlay",
              "size": 10,
              "solidity": 0.2
             }
            },
            "type": "histogram"
           }
          ],
          "histogram2d": [
           {
            "colorbar": {
             "outlinewidth": 0,
             "ticks": ""
            },
            "colorscale": [
             [
              0,
              "#0d0887"
             ],
             [
              0.1111111111111111,
              "#46039f"
             ],
             [
              0.2222222222222222,
              "#7201a8"
             ],
             [
              0.3333333333333333,
              "#9c179e"
             ],
             [
              0.4444444444444444,
              "#bd3786"
             ],
             [
              0.5555555555555556,
              "#d8576b"
             ],
             [
              0.6666666666666666,
              "#ed7953"
             ],
             [
              0.7777777777777778,
              "#fb9f3a"
             ],
             [
              0.8888888888888888,
              "#fdca26"
             ],
             [
              1,
              "#f0f921"
             ]
            ],
            "type": "histogram2d"
           }
          ],
          "histogram2dcontour": [
           {
            "colorbar": {
             "outlinewidth": 0,
             "ticks": ""
            },
            "colorscale": [
             [
              0,
              "#0d0887"
             ],
             [
              0.1111111111111111,
              "#46039f"
             ],
             [
              0.2222222222222222,
              "#7201a8"
             ],
             [
              0.3333333333333333,
              "#9c179e"
             ],
             [
              0.4444444444444444,
              "#bd3786"
             ],
             [
              0.5555555555555556,
              "#d8576b"
             ],
             [
              0.6666666666666666,
              "#ed7953"
             ],
             [
              0.7777777777777778,
              "#fb9f3a"
             ],
             [
              0.8888888888888888,
              "#fdca26"
             ],
             [
              1,
              "#f0f921"
             ]
            ],
            "type": "histogram2dcontour"
           }
          ],
          "mesh3d": [
           {
            "colorbar": {
             "outlinewidth": 0,
             "ticks": ""
            },
            "type": "mesh3d"
           }
          ],
          "parcoords": [
           {
            "line": {
             "colorbar": {
              "outlinewidth": 0,
              "ticks": ""
             }
            },
            "type": "parcoords"
           }
          ],
          "pie": [
           {
            "automargin": true,
            "type": "pie"
           }
          ],
          "scatter": [
           {
            "fillpattern": {
             "fillmode": "overlay",
             "size": 10,
             "solidity": 0.2
            },
            "type": "scatter"
           }
          ],
          "scatter3d": [
           {
            "line": {
             "colorbar": {
              "outlinewidth": 0,
              "ticks": ""
             }
            },
            "marker": {
             "colorbar": {
              "outlinewidth": 0,
              "ticks": ""
             }
            },
            "type": "scatter3d"
           }
          ],
          "scattercarpet": [
           {
            "marker": {
             "colorbar": {
              "outlinewidth": 0,
              "ticks": ""
             }
            },
            "type": "scattercarpet"
           }
          ],
          "scattergeo": [
           {
            "marker": {
             "colorbar": {
              "outlinewidth": 0,
              "ticks": ""
             }
            },
            "type": "scattergeo"
           }
          ],
          "scattergl": [
           {
            "marker": {
             "colorbar": {
              "outlinewidth": 0,
              "ticks": ""
             }
            },
            "type": "scattergl"
           }
          ],
          "scattermapbox": [
           {
            "marker": {
             "colorbar": {
              "outlinewidth": 0,
              "ticks": ""
             }
            },
            "type": "scattermapbox"
           }
          ],
          "scatterpolar": [
           {
            "marker": {
             "colorbar": {
              "outlinewidth": 0,
              "ticks": ""
             }
            },
            "type": "scatterpolar"
           }
          ],
          "scatterpolargl": [
           {
            "marker": {
             "colorbar": {
              "outlinewidth": 0,
              "ticks": ""
             }
            },
            "type": "scatterpolargl"
           }
          ],
          "scatterternary": [
           {
            "marker": {
             "colorbar": {
              "outlinewidth": 0,
              "ticks": ""
             }
            },
            "type": "scatterternary"
           }
          ],
          "surface": [
           {
            "colorbar": {
             "outlinewidth": 0,
             "ticks": ""
            },
            "colorscale": [
             [
              0,
              "#0d0887"
             ],
             [
              0.1111111111111111,
              "#46039f"
             ],
             [
              0.2222222222222222,
              "#7201a8"
             ],
             [
              0.3333333333333333,
              "#9c179e"
             ],
             [
              0.4444444444444444,
              "#bd3786"
             ],
             [
              0.5555555555555556,
              "#d8576b"
             ],
             [
              0.6666666666666666,
              "#ed7953"
             ],
             [
              0.7777777777777778,
              "#fb9f3a"
             ],
             [
              0.8888888888888888,
              "#fdca26"
             ],
             [
              1,
              "#f0f921"
             ]
            ],
            "type": "surface"
           }
          ],
          "table": [
           {
            "cells": {
             "fill": {
              "color": "#EBF0F8"
             },
             "line": {
              "color": "white"
             }
            },
            "header": {
             "fill": {
              "color": "#C8D4E3"
             },
             "line": {
              "color": "white"
             }
            },
            "type": "table"
           }
          ]
         },
         "layout": {
          "annotationdefaults": {
           "arrowcolor": "#2a3f5f",
           "arrowhead": 0,
           "arrowwidth": 1
          },
          "autotypenumbers": "strict",
          "coloraxis": {
           "colorbar": {
            "outlinewidth": 0,
            "ticks": ""
           }
          },
          "colorscale": {
           "diverging": [
            [
             0,
             "#8e0152"
            ],
            [
             0.1,
             "#c51b7d"
            ],
            [
             0.2,
             "#de77ae"
            ],
            [
             0.3,
             "#f1b6da"
            ],
            [
             0.4,
             "#fde0ef"
            ],
            [
             0.5,
             "#f7f7f7"
            ],
            [
             0.6,
             "#e6f5d0"
            ],
            [
             0.7,
             "#b8e186"
            ],
            [
             0.8,
             "#7fbc41"
            ],
            [
             0.9,
             "#4d9221"
            ],
            [
             1,
             "#276419"
            ]
           ],
           "sequential": [
            [
             0,
             "#0d0887"
            ],
            [
             0.1111111111111111,
             "#46039f"
            ],
            [
             0.2222222222222222,
             "#7201a8"
            ],
            [
             0.3333333333333333,
             "#9c179e"
            ],
            [
             0.4444444444444444,
             "#bd3786"
            ],
            [
             0.5555555555555556,
             "#d8576b"
            ],
            [
             0.6666666666666666,
             "#ed7953"
            ],
            [
             0.7777777777777778,
             "#fb9f3a"
            ],
            [
             0.8888888888888888,
             "#fdca26"
            ],
            [
             1,
             "#f0f921"
            ]
           ],
           "sequentialminus": [
            [
             0,
             "#0d0887"
            ],
            [
             0.1111111111111111,
             "#46039f"
            ],
            [
             0.2222222222222222,
             "#7201a8"
            ],
            [
             0.3333333333333333,
             "#9c179e"
            ],
            [
             0.4444444444444444,
             "#bd3786"
            ],
            [
             0.5555555555555556,
             "#d8576b"
            ],
            [
             0.6666666666666666,
             "#ed7953"
            ],
            [
             0.7777777777777778,
             "#fb9f3a"
            ],
            [
             0.8888888888888888,
             "#fdca26"
            ],
            [
             1,
             "#f0f921"
            ]
           ]
          },
          "colorway": [
           "#636efa",
           "#EF553B",
           "#00cc96",
           "#ab63fa",
           "#FFA15A",
           "#19d3f3",
           "#FF6692",
           "#B6E880",
           "#FF97FF",
           "#FECB52"
          ],
          "font": {
           "color": "#2a3f5f"
          },
          "geo": {
           "bgcolor": "white",
           "lakecolor": "white",
           "landcolor": "#E5ECF6",
           "showlakes": true,
           "showland": true,
           "subunitcolor": "white"
          },
          "hoverlabel": {
           "align": "left"
          },
          "hovermode": "closest",
          "mapbox": {
           "style": "light"
          },
          "paper_bgcolor": "white",
          "plot_bgcolor": "#E5ECF6",
          "polar": {
           "angularaxis": {
            "gridcolor": "white",
            "linecolor": "white",
            "ticks": ""
           },
           "bgcolor": "#E5ECF6",
           "radialaxis": {
            "gridcolor": "white",
            "linecolor": "white",
            "ticks": ""
           }
          },
          "scene": {
           "xaxis": {
            "backgroundcolor": "#E5ECF6",
            "gridcolor": "white",
            "gridwidth": 2,
            "linecolor": "white",
            "showbackground": true,
            "ticks": "",
            "zerolinecolor": "white"
           },
           "yaxis": {
            "backgroundcolor": "#E5ECF6",
            "gridcolor": "white",
            "gridwidth": 2,
            "linecolor": "white",
            "showbackground": true,
            "ticks": "",
            "zerolinecolor": "white"
           },
           "zaxis": {
            "backgroundcolor": "#E5ECF6",
            "gridcolor": "white",
            "gridwidth": 2,
            "linecolor": "white",
            "showbackground": true,
            "ticks": "",
            "zerolinecolor": "white"
           }
          },
          "shapedefaults": {
           "line": {
            "color": "#2a3f5f"
           }
          },
          "ternary": {
           "aaxis": {
            "gridcolor": "white",
            "linecolor": "white",
            "ticks": ""
           },
           "baxis": {
            "gridcolor": "white",
            "linecolor": "white",
            "ticks": ""
           },
           "bgcolor": "#E5ECF6",
           "caxis": {
            "gridcolor": "white",
            "linecolor": "white",
            "ticks": ""
           }
          },
          "title": {
           "x": 0.05
          },
          "xaxis": {
           "automargin": true,
           "gridcolor": "white",
           "linecolor": "white",
           "ticks": "",
           "title": {
            "standoff": 15
           },
           "zerolinecolor": "white",
           "zerolinewidth": 2
          },
          "yaxis": {
           "automargin": true,
           "gridcolor": "white",
           "linecolor": "white",
           "ticks": "",
           "title": {
            "standoff": 15
           },
           "zerolinecolor": "white",
           "zerolinewidth": 2
          }
         }
        },
        "title": {
         "text": "Gender and Type"
        },
        "xaxis": {
         "anchor": "y",
         "autorange": true,
         "domain": [
          0,
          1
         ],
         "range": [
          0,
          2
         ],
         "title": {
          "text": "Gender"
         },
         "type": "category"
        },
        "yaxis": {
         "anchor": "x",
         "autorange": true,
         "domain": [
          0,
          1
         ],
         "range": [
          -4081.4444444444443,
          81747.44444444444
         ],
         "title": {
          "text": "value"
         },
         "type": "linear"
        }
       }
      },
      "image/png": "[encoded data removed]",
      "text/html": [
       "<div>                            <div id=\"e8f11494-39aa-4c0e-ad21-ce55210b13f2\" class=\"plotly-graph-div\" style=\"height:525px; width:100%;\"></div>            <script type=\"text/javascript\">                require([\"plotly\"], function(Plotly) {                    window.PLOTLYENV=window.PLOTLYENV || {};                                    if (document.getElementById(\"e8f11494-39aa-4c0e-ad21-ce55210b13f2\")) {                    Plotly.newPlot(                        \"e8f11494-39aa-4c0e-ad21-ce55210b13f2\",                        [{\"hovertemplate\":\"variable=count<br>Gender=%{x}<br>value=%{y}<extra></extra>\",\"legendgroup\":\"count\",\"line\":{\"color\":\"#636efa\",\"dash\":\"solid\"},\"marker\":{\"symbol\":\"circle\"},\"mode\":\"lines\",\"name\":\"count\",\"orientation\":\"v\",\"showlegend\":true,\"x\":[\"\\u0628\\u0646\\u0627\\u062a\",\"\\u0628\\u0646\\u064a\\u0646\",\"\\u0645\\u062f\\u0627\\u0631\\u0633 \\u0627\\u0644\\u062e\\u0627\\u0631\\u062c\"],\"xaxis\":\"x\",\"y\":[77456,62765,210],\"yaxis\":\"y\",\"type\":\"scatter\"}],                        {\"template\":{\"data\":{\"histogram2dcontour\":[{\"type\":\"histogram2dcontour\",\"colorbar\":{\"outlinewidth\":0,\"ticks\":\"\"},\"colorscale\":[[0.0,\"#0d0887\"],[0.1111111111111111,\"#46039f\"],[0.2222222222222222,\"#7201a8\"],[0.3333333333333333,\"#9c179e\"],[0.4444444444444444,\"#bd3786\"],[0.5555555555555556,\"#d8576b\"],[0.6666666666666666,\"#ed7953\"],[0.7777777777777778,\"#fb9f3a\"],[0.8888888888888888,\"#fdca26\"],[1.0,\"#f0f921\"]]}],\"choropleth\":[{\"type\":\"choropleth\",\"colorbar\":{\"outlinewidth\":0,\"ticks\":\"\"}}],\"histogram2d\":[{\"type\":\"histogram2d\",\"colorbar\":{\"outlinewidth\":0,\"ticks\":\"\"},\"colorscale\":[[0.0,\"#0d0887\"],[0.1111111111111111,\"#46039f\"],[0.2222222222222222,\"#7201a8\"],[0.3333333333333333,\"#9c179e\"],[0.4444444444444444,\"#bd3786\"],[0.5555555555555556,\"#d8576b\"],[0.6666666666666666,\"#ed7953\"],[0.7777777777777778,\"#fb9f3a\"],[0.8888888888888888,\"#fdca26\"],[1.0,\"#f0f921\"]]}],\"heatmap\":[{\"type\":\"heatmap\",\"colorbar\":{\"outlinewidth\":0,\"ticks\":\"\"},\"colorscale\":[[0.0,\"#0d0887\"],[0.1111111111111111,\"#46039f\"],[0.2222222222222222,\"#7201a8\"],[0.3333333333333333,\"#9c179e\"],[0.4444444444444444,\"#bd3786\"],[0.5555555555555556,\"#d8576b\"],[0.6666666666666666,\"#ed7953\"],[0.7777777777777778,\"#fb9f3a\"],[0.8888888888888888,\"#fdca26\"],[1.0,\"#f0f921\"]]}],\"heatmapgl\":[{\"type\":\"heatmapgl\",\"colorbar\":{\"outlinewidth\":0,\"ticks\":\"\"},\"colorscale\":[[0.0,\"#0d0887\"],[0.1111111111111111,\"#46039f\"],[0.2222222222222222,\"#7201a8\"],[0.3333333333333333,\"#9c179e\"],[0.4444444444444444,\"#bd3786\"],[0.5555555555555556,\"#d8576b\"],[0.6666666666666666,\"#ed7953\"],[0.7777777777777778,\"#fb9f3a\"],[0.8888888888888888,\"#fdca26\"],[1.0,\"#f0f921\"]]}],\"contourcarpet\":[{\"type\":\"contourcarpet\",\"colorbar\":{\"outlinewidth\":0,\"ticks\":\"\"}}],\"contour\":[{\"type\":\"contour\",\"colorbar\":{\"outlinewidth\":0,\"ticks\":\"\"},\"colorscale\":[[0.0,\"#0d0887\"],[0.1111111111111111,\"#46039f\"],[0.2222222222222222,\"#7201a8\"],[0.3333333333333333,\"#9c179e\"],[0.4444444444444444,\"#bd3786\"],[0.5555555555555556,\"#d8576b\"],[0.6666666666666666,\"#ed7953\"],[0.7777777777777778,\"#fb9f3a\"],[0.8888888888888888,\"#fdca26\"],[1.0,\"#f0f921\"]]}],\"surface\":[{\"type\":\"surface\",\"colorbar\":{\"outlinewidth\":0,\"ticks\":\"\"},\"colorscale\":[[0.0,\"#0d0887\"],[0.1111111111111111,\"#46039f\"],[0.2222222222222222,\"#7201a8\"],[0.3333333333333333,\"#9c179e\"],[0.4444444444444444,\"#bd3786\"],[0.5555555555555556,\"#d8576b\"],[0.6666666666666666,\"#ed7953\"],[0.7777777777777778,\"#fb9f3a\"],[0.8888888888888888,\"#fdca26\"],[1.0,\"#f0f921\"]]}],\"mesh3d\":[{\"type\":\"mesh3d\",\"colorbar\":{\"outlinewidth\":0,\"ticks\":\"\"}}],\"scatter\":[{\"fillpattern\":{\"fillmode\":\"overlay\",\"size\":10,\"solidity\":0.2},\"type\":\"scatter\"}],\"parcoords\":[{\"type\":\"parcoords\",\"line\":{\"colorbar\":{\"outlinewidth\":0,\"ticks\":\"\"}}}],\"scatterpolargl\":[{\"type\":\"scatterpolargl\",\"marker\":{\"colorbar\":{\"outlinewidth\":0,\"ticks\":\"\"}}}],\"bar\":[{\"error_x\":{\"color\":\"#2a3f5f\"},\"error_y\":{\"color\":\"#2a3f5f\"},\"marker\":{\"line\":{\"color\":\"#E5ECF6\",\"width\":0.5},\"pattern\":{\"fillmode\":\"overlay\",\"size\":10,\"solidity\":0.2}},\"type\":\"bar\"}],\"scattergeo\":[{\"type\":\"scattergeo\",\"marker\":{\"colorbar\":{\"outlinewidth\":0,\"ticks\":\"\"}}}],\"scatterpolar\":[{\"type\":\"scatterpolar\",\"marker\":{\"colorbar\":{\"outlinewidth\":0,\"ticks\":\"\"}}}],\"histogram\":[{\"marker\":{\"pattern\":{\"fillmode\":\"overlay\",\"size\":10,\"solidity\":0.2}},\"type\":\"histogram\"}],\"scattergl\":[{\"type\":\"scattergl\",\"marker\":{\"colorbar\":{\"outlinewidth\":0,\"ticks\":\"\"}}}],\"scatter3d\":[{\"type\":\"scatter3d\",\"line\":{\"colorbar\":{\"outlinewidth\":0,\"ticks\":\"\"}},\"marker\":{\"colorbar\":{\"outlinewidth\":0,\"ticks\":\"\"}}}],\"scattermapbox\":[{\"type\":\"scattermapbox\",\"marker\":{\"colorbar\":{\"outlinewidth\":0,\"ticks\":\"\"}}}],\"scatterternary\":[{\"type\":\"scatterternary\",\"marker\":{\"colorbar\":{\"outlinewidth\":0,\"ticks\":\"\"}}}],\"scattercarpet\":[{\"type\":\"scattercarpet\",\"marker\":{\"colorbar\":{\"outlinewidth\":0,\"ticks\":\"\"}}}],\"carpet\":[{\"aaxis\":{\"endlinecolor\":\"#2a3f5f\",\"gridcolor\":\"white\",\"linecolor\":\"white\",\"minorgridcolor\":\"white\",\"startlinecolor\":\"#2a3f5f\"},\"baxis\":{\"endlinecolor\":\"#2a3f5f\",\"gridcolor\":\"white\",\"linecolor\":\"white\",\"minorgridcolor\":\"white\",\"startlinecolor\":\"#2a3f5f\"},\"type\":\"carpet\"}],\"table\":[{\"cells\":{\"fill\":{\"color\":\"#EBF0F8\"},\"line\":{\"color\":\"white\"}},\"header\":{\"fill\":{\"color\":\"#C8D4E3\"},\"line\":{\"color\":\"white\"}},\"type\":\"table\"}],\"barpolar\":[{\"marker\":{\"line\":{\"color\":\"#E5ECF6\",\"width\":0.5},\"pattern\":{\"fillmode\":\"overlay\",\"size\":10,\"solidity\":0.2}},\"type\":\"barpolar\"}],\"pie\":[{\"automargin\":true,\"type\":\"pie\"}]},\"layout\":{\"autotypenumbers\":\"strict\",\"colorway\":[\"#636efa\",\"#EF553B\",\"#00cc96\",\"#ab63fa\",\"#FFA15A\",\"#19d3f3\",\"#FF6692\",\"#B6E880\",\"#FF97FF\",\"#FECB52\"],\"font\":{\"color\":\"#2a3f5f\"},\"hovermode\":\"closest\",\"hoverlabel\":{\"align\":\"left\"},\"paper_bgcolor\":\"white\",\"plot_bgcolor\":\"#E5ECF6\",\"polar\":{\"bgcolor\":\"#E5ECF6\",\"angularaxis\":{\"gridcolor\":\"white\",\"linecolor\":\"white\",\"ticks\":\"\"},\"radialaxis\":{\"gridcolor\":\"white\",\"linecolor\":\"white\",\"ticks\":\"\"}},\"ternary\":{\"bgcolor\":\"#E5ECF6\",\"aaxis\":{\"gridcolor\":\"white\",\"linecolor\":\"white\",\"ticks\":\"\"},\"baxis\":{\"gridcolor\":\"white\",\"linecolor\":\"white\",\"ticks\":\"\"},\"caxis\":{\"gridcolor\":\"white\",\"linecolor\":\"white\",\"ticks\":\"\"}},\"coloraxis\":{\"colorbar\":{\"outlinewidth\":0,\"ticks\":\"\"}},\"colorscale\":{\"sequential\":[[0.0,\"#0d0887\"],[0.1111111111111111,\"#46039f\"],[0.2222222222222222,\"#7201a8\"],[0.3333333333333333,\"#9c179e\"],[0.4444444444444444,\"#bd3786\"],[0.5555555555555556,\"#d8576b\"],[0.6666666666666666,\"#ed7953\"],[0.7777777777777778,\"#fb9f3a\"],[0.8888888888888888,\"#fdca26\"],[1.0,\"#f0f921\"]],\"sequentialminus\":[[0.0,\"#0d0887\"],[0.1111111111111111,\"#46039f\"],[0.2222222222222222,\"#7201a8\"],[0.3333333333333333,\"#9c179e\"],[0.4444444444444444,\"#bd3786\"],[0.5555555555555556,\"#d8576b\"],[0.6666666666666666,\"#ed7953\"],[0.7777777777777778,\"#fb9f3a\"],[0.8888888888888888,\"#fdca26\"],[1.0,\"#f0f921\"]],\"diverging\":[[0,\"#8e0152\"],[0.1,\"#c51b7d\"],[0.2,\"#de77ae\"],[0.3,\"#f1b6da\"],[0.4,\"#fde0ef\"],[0.5,\"#f7f7f7\"],[0.6,\"#e6f5d0\"],[0.7,\"#b8e186\"],[0.8,\"#7fbc41\"],[0.9,\"#4d9221\"],[1,\"#276419\"]]},\"xaxis\":{\"gridcolor\":\"white\",\"linecolor\":\"white\",\"ticks\":\"\",\"title\":{\"standoff\":15},\"zerolinecolor\":\"white\",\"automargin\":true,\"zerolinewidth\":2},\"yaxis\":{\"gridcolor\":\"white\",\"linecolor\":\"white\",\"ticks\":\"\",\"title\":{\"standoff\":15},\"zerolinecolor\":\"white\",\"automargin\":true,\"zerolinewidth\":2},\"scene\":{\"xaxis\":{\"backgroundcolor\":\"#E5ECF6\",\"gridcolor\":\"white\",\"linecolor\":\"white\",\"showbackground\":true,\"ticks\":\"\",\"zerolinecolor\":\"white\",\"gridwidth\":2},\"yaxis\":{\"backgroundcolor\":\"#E5ECF6\",\"gridcolor\":\"white\",\"linecolor\":\"white\",\"showbackground\":true,\"ticks\":\"\",\"zerolinecolor\":\"white\",\"gridwidth\":2},\"zaxis\":{\"backgroundcolor\":\"#E5ECF6\",\"gridcolor\":\"white\",\"linecolor\":\"white\",\"showbackground\":true,\"ticks\":\"\",\"zerolinecolor\":\"white\",\"gridwidth\":2}},\"shapedefaults\":{\"line\":{\"color\":\"#2a3f5f\"}},\"annotationdefaults\":{\"arrowcolor\":\"#2a3f5f\",\"arrowhead\":0,\"arrowwidth\":1},\"geo\":{\"bgcolor\":\"white\",\"landcolor\":\"#E5ECF6\",\"subunitcolor\":\"white\",\"showland\":true,\"showlakes\":true,\"lakecolor\":\"white\"},\"title\":{\"x\":0.05},\"mapbox\":{\"style\":\"light\"}}},\"xaxis\":{\"anchor\":\"y\",\"domain\":[0.0,1.0],\"title\":{\"text\":\"Gender\"}},\"yaxis\":{\"anchor\":\"x\",\"domain\":[0.0,1.0],\"title\":{\"text\":\"value\"}},\"legend\":{\"title\":{\"text\":\"variable\"},\"tracegroupgap\":0},\"title\":{\"text\":\"Gender and Type\"}},                        {\"responsive\": true}                    ).then(function(){\n",
       "                            \n",
       "var gd = document.getElementById('e8f11494-39aa-4c0e-ad21-ce55210b13f2');\n",
       "var x = new MutationObserver(function (mutations, observer) {{\n",
       "        var display = window.getComputedStyle(gd).display;\n",
       "        if (!display || display === 'none') {{\n",
       "            console.log([gd, 'removed!']);\n",
       "            Plotly.purge(gd);\n",
       "            observer.disconnect();\n",
       "        }}\n",
       "}});\n",
       "\n",
       "// Listen for the removal of the full notebook cells\n",
       "var notebookContainer = gd.closest('#notebook-container');\n",
       "if (notebookContainer) {{\n",
       "    x.observe(notebookContainer, {childList: true});\n",
       "}}\n",
       "\n",
       "// Listen for the clearing of the current output cell\n",
       "var outputEl = gd.closest('.output');\n",
       "if (outputEl) {{\n",
       "    x.observe(outputEl, {childList: true});\n",
       "}}\n",
       "\n",
       "                        })                };                });            </script>        </div>"
      ]
     },
     "metadata": {},
     "output_type": "display_data"
    }
   ],
   "source": [
    "fig.show()"
   ]
  },
  {
   "cell_type": "code",
   "execution_count": 49,
   "id": "65ca2932-8011-44c6-bdb6-c79d6365b77c",
   "metadata": {},
   "outputs": [],
   "source": [
    "fig2 = px.bar(prcsent2 , title = \"Region\")"
   ]
  },
  {
   "cell_type": "code",
   "execution_count": 52,
   "id": "5a7a7aa1-3f43-46e6-98d8-f73740208dc9",
   "metadata": {},
   "outputs": [
    {
     "data": {
      "application/vnd.plotly.v1+json": {
       "config": {
        "plotlyServerURL": "https://plot.ly"
       },
       "data": [
        {
         "alignmentgroup": "True",
         "hovertemplate": "variable=count<br>AdminRegion=%{x}<br>value=%{y}<extra></extra>",
         "legendgroup": "count",
         "marker": {
          "color": "#636efa",
          "pattern": {
           "shape": ""
          }
         },
         "name": "count",
         "offsetgroup": "count",
         "orientation": "v",
         "showlegend": true,
         "textposition": "auto",
         "type": "bar",
         "x": [
          "الرياض",
          "مكة المكرمة",
          "عسير",
          "الشرقية",
          "المدينة المنورة",
          "القصيم",
          "جازان",
          "حائل",
          "تبوك",
          "الباحة",
          "الجوف",
          "نجران",
          "الحدود الشمالية"
         ],
         "xaxis": "x",
         "y": [
          31617,
          26944,
          15460,
          15034,
          10012,
          9449,
          9229,
          5302,
          4717,
          4220,
          3442,
          2933,
          2072
         ],
         "yaxis": "y"
        }
       ],
       "layout": {
        "autosize": true,
        "barmode": "relative",
        "legend": {
         "title": {
          "text": "variable"
         },
         "tracegroupgap": 0
        },
        "template": {
         "data": {
          "bar": [
           {
            "error_x": {
             "color": "#2a3f5f"
            },
            "error_y": {
             "color": "#2a3f5f"
            },
            "marker": {
             "line": {
              "color": "#E5ECF6",
              "width": 0.5
             },
             "pattern": {
              "fillmode": "overlay",
              "size": 10,
              "solidity": 0.2
             }
            },
            "type": "bar"
           }
          ],
          "barpolar": [
           {
            "marker": {
             "line": {
              "color": "#E5ECF6",
              "width": 0.5
             },
             "pattern": {
              "fillmode": "overlay",
              "size": 10,
              "solidity": 0.2
             }
            },
            "type": "barpolar"
           }
          ],
          "carpet": [
           {
            "aaxis": {
             "endlinecolor": "#2a3f5f",
             "gridcolor": "white",
             "linecolor": "white",
             "minorgridcolor": "white",
             "startlinecolor": "#2a3f5f"
            },
            "baxis": {
             "endlinecolor": "#2a3f5f",
             "gridcolor": "white",
             "linecolor": "white",
             "minorgridcolor": "white",
             "startlinecolor": "#2a3f5f"
            },
            "type": "carpet"
           }
          ],
          "choropleth": [
           {
            "colorbar": {
             "outlinewidth": 0,
             "ticks": ""
            },
            "type": "choropleth"
           }
          ],
          "contour": [
           {
            "colorbar": {
             "outlinewidth": 0,
             "ticks": ""
            },
            "colorscale": [
             [
              0,
              "#0d0887"
             ],
             [
              0.1111111111111111,
              "#46039f"
             ],
             [
              0.2222222222222222,
              "#7201a8"
             ],
             [
              0.3333333333333333,
              "#9c179e"
             ],
             [
              0.4444444444444444,
              "#bd3786"
             ],
             [
              0.5555555555555556,
              "#d8576b"
             ],
             [
              0.6666666666666666,
              "#ed7953"
             ],
             [
              0.7777777777777778,
              "#fb9f3a"
             ],
             [
              0.8888888888888888,
              "#fdca26"
             ],
             [
              1,
              "#f0f921"
             ]
            ],
            "type": "contour"
           }
          ],
          "contourcarpet": [
           {
            "colorbar": {
             "outlinewidth": 0,
             "ticks": ""
            },
            "type": "contourcarpet"
           }
          ],
          "heatmap": [
           {
            "colorbar": {
             "outlinewidth": 0,
             "ticks": ""
            },
            "colorscale": [
             [
              0,
              "#0d0887"
             ],
             [
              0.1111111111111111,
              "#46039f"
             ],
             [
              0.2222222222222222,
              "#7201a8"
             ],
             [
              0.3333333333333333,
              "#9c179e"
             ],
             [
              0.4444444444444444,
              "#bd3786"
             ],
             [
              0.5555555555555556,
              "#d8576b"
             ],
             [
              0.6666666666666666,
              "#ed7953"
             ],
             [
              0.7777777777777778,
              "#fb9f3a"
             ],
             [
              0.8888888888888888,
              "#fdca26"
             ],
             [
              1,
              "#f0f921"
             ]
            ],
            "type": "heatmap"
           }
          ],
          "heatmapgl": [
           {
            "colorbar": {
             "outlinewidth": 0,
             "ticks": ""
            },
            "colorscale": [
             [
              0,
              "#0d0887"
             ],
             [
              0.1111111111111111,
              "#46039f"
             ],
             [
              0.2222222222222222,
              "#7201a8"
             ],
             [
              0.3333333333333333,
              "#9c179e"
             ],
             [
              0.4444444444444444,
              "#bd3786"
             ],
             [
              0.5555555555555556,
              "#d8576b"
             ],
             [
              0.6666666666666666,
              "#ed7953"
             ],
             [
              0.7777777777777778,
              "#fb9f3a"
             ],
             [
              0.8888888888888888,
              "#fdca26"
             ],
             [
              1,
              "#f0f921"
             ]
            ],
            "type": "heatmapgl"
           }
          ],
          "histogram": [
           {
            "marker": {
             "pattern": {
              "fillmode": "overlay",
              "size": 10,
              "solidity": 0.2
             }
            },
            "type": "histogram"
           }
          ],
          "histogram2d": [
           {
            "colorbar": {
             "outlinewidth": 0,
             "ticks": ""
            },
            "colorscale": [
             [
              0,
              "#0d0887"
             ],
             [
              0.1111111111111111,
              "#46039f"
             ],
             [
              0.2222222222222222,
              "#7201a8"
             ],
             [
              0.3333333333333333,
              "#9c179e"
             ],
             [
              0.4444444444444444,
              "#bd3786"
             ],
             [
              0.5555555555555556,
              "#d8576b"
             ],
             [
              0.6666666666666666,
              "#ed7953"
             ],
             [
              0.7777777777777778,
              "#fb9f3a"
             ],
             [
              0.8888888888888888,
              "#fdca26"
             ],
             [
              1,
              "#f0f921"
             ]
            ],
            "type": "histogram2d"
           }
          ],
          "histogram2dcontour": [
           {
            "colorbar": {
             "outlinewidth": 0,
             "ticks": ""
            },
            "colorscale": [
             [
              0,
              "#0d0887"
             ],
             [
              0.1111111111111111,
              "#46039f"
             ],
             [
              0.2222222222222222,
              "#7201a8"
             ],
             [
              0.3333333333333333,
              "#9c179e"
             ],
             [
              0.4444444444444444,
              "#bd3786"
             ],
             [
              0.5555555555555556,
              "#d8576b"
             ],
             [
              0.6666666666666666,
              "#ed7953"
             ],
             [
              0.7777777777777778,
              "#fb9f3a"
             ],
             [
              0.8888888888888888,
              "#fdca26"
             ],
             [
              1,
              "#f0f921"
             ]
            ],
            "type": "histogram2dcontour"
           }
          ],
          "mesh3d": [
           {
            "colorbar": {
             "outlinewidth": 0,
             "ticks": ""
            },
            "type": "mesh3d"
           }
          ],
          "parcoords": [
           {
            "line": {
             "colorbar": {
              "outlinewidth": 0,
              "ticks": ""
             }
            },
            "type": "parcoords"
           }
          ],
          "pie": [
           {
            "automargin": true,
            "type": "pie"
           }
          ],
          "scatter": [
           {
            "fillpattern": {
             "fillmode": "overlay",
             "size": 10,
             "solidity": 0.2
            },
            "type": "scatter"
           }
          ],
          "scatter3d": [
           {
            "line": {
             "colorbar": {
              "outlinewidth": 0,
              "ticks": ""
             }
            },
            "marker": {
             "colorbar": {
              "outlinewidth": 0,
              "ticks": ""
             }
            },
            "type": "scatter3d"
           }
          ],
          "scattercarpet": [
           {
            "marker": {
             "colorbar": {
              "outlinewidth": 0,
              "ticks": ""
             }
            },
            "type": "scattercarpet"
           }
          ],
          "scattergeo": [
           {
            "marker": {
             "colorbar": {
              "outlinewidth": 0,
              "ticks": ""
             }
            },
            "type": "scattergeo"
           }
          ],
          "scattergl": [
           {
            "marker": {
             "colorbar": {
              "outlinewidth": 0,
              "ticks": ""
             }
            },
            "type": "scattergl"
           }
          ],
          "scattermapbox": [
           {
            "marker": {
             "colorbar": {
              "outlinewidth": 0,
              "ticks": ""
             }
            },
            "type": "scattermapbox"
           }
          ],
          "scatterpolar": [
           {
            "marker": {
             "colorbar": {
              "outlinewidth": 0,
              "ticks": ""
             }
            },
            "type": "scatterpolar"
           }
          ],
          "scatterpolargl": [
           {
            "marker": {
             "colorbar": {
              "outlinewidth": 0,
              "ticks": ""
             }
            },
            "type": "scatterpolargl"
           }
          ],
          "scatterternary": [
           {
            "marker": {
             "colorbar": {
              "outlinewidth": 0,
              "ticks": ""
             }
            },
            "type": "scatterternary"
           }
          ],
          "surface": [
           {
            "colorbar": {
             "outlinewidth": 0,
             "ticks": ""
            },
            "colorscale": [
             [
              0,
              "#0d0887"
             ],
             [
              0.1111111111111111,
              "#46039f"
             ],
             [
              0.2222222222222222,
              "#7201a8"
             ],
             [
              0.3333333333333333,
              "#9c179e"
             ],
             [
              0.4444444444444444,
              "#bd3786"
             ],
             [
              0.5555555555555556,
              "#d8576b"
             ],
             [
              0.6666666666666666,
              "#ed7953"
             ],
             [
              0.7777777777777778,
              "#fb9f3a"
             ],
             [
              0.8888888888888888,
              "#fdca26"
             ],
             [
              1,
              "#f0f921"
             ]
            ],
            "type": "surface"
           }
          ],
          "table": [
           {
            "cells": {
             "fill": {
              "color": "#EBF0F8"
             },
             "line": {
              "color": "white"
             }
            },
            "header": {
             "fill": {
              "color": "#C8D4E3"
             },
             "line": {
              "color": "white"
             }
            },
            "type": "table"
           }
          ]
         },
         "layout": {
          "annotationdefaults": {
           "arrowcolor": "#2a3f5f",
           "arrowhead": 0,
           "arrowwidth": 1
          },
          "autotypenumbers": "strict",
          "coloraxis": {
           "colorbar": {
            "outlinewidth": 0,
            "ticks": ""
           }
          },
          "colorscale": {
           "diverging": [
            [
             0,
             "#8e0152"
            ],
            [
             0.1,
             "#c51b7d"
            ],
            [
             0.2,
             "#de77ae"
            ],
            [
             0.3,
             "#f1b6da"
            ],
            [
             0.4,
             "#fde0ef"
            ],
            [
             0.5,
             "#f7f7f7"
            ],
            [
             0.6,
             "#e6f5d0"
            ],
            [
             0.7,
             "#b8e186"
            ],
            [
             0.8,
             "#7fbc41"
            ],
            [
             0.9,
             "#4d9221"
            ],
            [
             1,
             "#276419"
            ]
           ],
           "sequential": [
            [
             0,
             "#0d0887"
            ],
            [
             0.1111111111111111,
             "#46039f"
            ],
            [
             0.2222222222222222,
             "#7201a8"
            ],
            [
             0.3333333333333333,
             "#9c179e"
            ],
            [
             0.4444444444444444,
             "#bd3786"
            ],
            [
             0.5555555555555556,
             "#d8576b"
            ],
            [
             0.6666666666666666,
             "#ed7953"
            ],
            [
             0.7777777777777778,
             "#fb9f3a"
            ],
            [
             0.8888888888888888,
             "#fdca26"
            ],
            [
             1,
             "#f0f921"
            ]
           ],
           "sequentialminus": [
            [
             0,
             "#0d0887"
            ],
            [
             0.1111111111111111,
             "#46039f"
            ],
            [
             0.2222222222222222,
             "#7201a8"
            ],
            [
             0.3333333333333333,
             "#9c179e"
            ],
            [
             0.4444444444444444,
             "#bd3786"
            ],
            [
             0.5555555555555556,
             "#d8576b"
            ],
            [
             0.6666666666666666,
             "#ed7953"
            ],
            [
             0.7777777777777778,
             "#fb9f3a"
            ],
            [
             0.8888888888888888,
             "#fdca26"
            ],
            [
             1,
             "#f0f921"
            ]
           ]
          },
          "colorway": [
           "#636efa",
           "#EF553B",
           "#00cc96",
           "#ab63fa",
           "#FFA15A",
           "#19d3f3",
           "#FF6692",
           "#B6E880",
           "#FF97FF",
           "#FECB52"
          ],
          "font": {
           "color": "#2a3f5f"
          },
          "geo": {
           "bgcolor": "white",
           "lakecolor": "white",
           "landcolor": "#E5ECF6",
           "showlakes": true,
           "showland": true,
           "subunitcolor": "white"
          },
          "hoverlabel": {
           "align": "left"
          },
          "hovermode": "closest",
          "mapbox": {
           "style": "light"
          },
          "paper_bgcolor": "white",
          "plot_bgcolor": "#E5ECF6",
          "polar": {
           "angularaxis": {
            "gridcolor": "white",
            "linecolor": "white",
            "ticks": ""
           },
           "bgcolor": "#E5ECF6",
           "radialaxis": {
            "gridcolor": "white",
            "linecolor": "white",
            "ticks": ""
           }
          },
          "scene": {
           "xaxis": {
            "backgroundcolor": "#E5ECF6",
            "gridcolor": "white",
            "gridwidth": 2,
            "linecolor": "white",
            "showbackground": true,
            "ticks": "",
            "zerolinecolor": "white"
           },
           "yaxis": {
            "backgroundcolor": "#E5ECF6",
            "gridcolor": "white",
            "gridwidth": 2,
            "linecolor": "white",
            "showbackground": true,
            "ticks": "",
            "zerolinecolor": "white"
           },
           "zaxis": {
            "backgroundcolor": "#E5ECF6",
            "gridcolor": "white",
            "gridwidth": 2,
            "linecolor": "white",
            "showbackground": true,
            "ticks": "",
            "zerolinecolor": "white"
           }
          },
          "shapedefaults": {
           "line": {
            "color": "#2a3f5f"
           }
          },
          "ternary": {
           "aaxis": {
            "gridcolor": "white",
            "linecolor": "white",
            "ticks": ""
           },
           "baxis": {
            "gridcolor": "white",
            "linecolor": "white",
            "ticks": ""
           },
           "bgcolor": "#E5ECF6",
           "caxis": {
            "gridcolor": "white",
            "linecolor": "white",
            "ticks": ""
           }
          },
          "title": {
           "x": 0.05
          },
          "xaxis": {
           "automargin": true,
           "gridcolor": "white",
           "linecolor": "white",
           "ticks": "",
           "title": {
            "standoff": 15
           },
           "zerolinecolor": "white",
           "zerolinewidth": 2
          },
          "yaxis": {
           "automargin": true,
           "gridcolor": "white",
           "linecolor": "white",
           "ticks": "",
           "title": {
            "standoff": 15
           },
           "zerolinecolor": "white",
           "zerolinewidth": 2
          }
         }
        },
        "title": {
         "text": "Region"
        },
        "xaxis": {
         "anchor": "y",
         "autorange": true,
         "domain": [
          0,
          1
         ],
         "range": [
          -0.5,
          12.5
         ],
         "title": {
          "text": "AdminRegion"
         },
         "type": "category"
        },
        "yaxis": {
         "anchor": "x",
         "autorange": true,
         "domain": [
          0,
          1
         ],
         "range": [
          0,
          33281.05263157895
         ],
         "title": {
          "text": "value"
         },
         "type": "linear"
        }
       }
      },
      "image/png": "[encoded data removed]",
      "text/html": [
       "<div>                            <div id=\"78a450e1-a9d8-406b-9b7c-671aae96e6d1\" class=\"plotly-graph-div\" style=\"height:525px; width:100%;\"></div>            <script type=\"text/javascript\">                require([\"plotly\"], function(Plotly) {                    window.PLOTLYENV=window.PLOTLYENV || {};                                    if (document.getElementById(\"78a450e1-a9d8-406b-9b7c-671aae96e6d1\")) {                    Plotly.newPlot(                        \"78a450e1-a9d8-406b-9b7c-671aae96e6d1\",                        [{\"alignmentgroup\":\"True\",\"hovertemplate\":\"variable=count<br>AdminRegion=%{x}<br>value=%{y}<extra></extra>\",\"legendgroup\":\"count\",\"marker\":{\"color\":\"#636efa\",\"pattern\":{\"shape\":\"\"}},\"name\":\"count\",\"offsetgroup\":\"count\",\"orientation\":\"v\",\"showlegend\":true,\"textposition\":\"auto\",\"x\":[\"\\u0627\\u0644\\u0631\\u064a\\u0627\\u0636\",\"\\u0645\\u0643\\u0629 \\u0627\\u0644\\u0645\\u0643\\u0631\\u0645\\u0629\",\"\\u0639\\u0633\\u064a\\u0631\",\"\\u0627\\u0644\\u0634\\u0631\\u0642\\u064a\\u0629\",\"\\u0627\\u0644\\u0645\\u062f\\u064a\\u0646\\u0629 \\u0627\\u0644\\u0645\\u0646\\u0648\\u0631\\u0629\",\"\\u0627\\u0644\\u0642\\u0635\\u064a\\u0645\",\"\\u062c\\u0627\\u0632\\u0627\\u0646\",\"\\u062d\\u0627\\u0626\\u0644\",\"\\u062a\\u0628\\u0648\\u0643\",\"\\u0627\\u0644\\u0628\\u0627\\u062d\\u0629\",\"\\u0627\\u0644\\u062c\\u0648\\u0641\",\"\\u0646\\u062c\\u0631\\u0627\\u0646\",\"\\u0627\\u0644\\u062d\\u062f\\u0648\\u062f \\u0627\\u0644\\u0634\\u0645\\u0627\\u0644\\u064a\\u0629\"],\"xaxis\":\"x\",\"y\":[31617,26944,15460,15034,10012,9449,9229,5302,4717,4220,3442,2933,2072],\"yaxis\":\"y\",\"type\":\"bar\"}],                        {\"template\":{\"data\":{\"histogram2dcontour\":[{\"type\":\"histogram2dcontour\",\"colorbar\":{\"outlinewidth\":0,\"ticks\":\"\"},\"colorscale\":[[0.0,\"#0d0887\"],[0.1111111111111111,\"#46039f\"],[0.2222222222222222,\"#7201a8\"],[0.3333333333333333,\"#9c179e\"],[0.4444444444444444,\"#bd3786\"],[0.5555555555555556,\"#d8576b\"],[0.6666666666666666,\"#ed7953\"],[0.7777777777777778,\"#fb9f3a\"],[0.8888888888888888,\"#fdca26\"],[1.0,\"#f0f921\"]]}],\"choropleth\":[{\"type\":\"choropleth\",\"colorbar\":{\"outlinewidth\":0,\"ticks\":\"\"}}],\"histogram2d\":[{\"type\":\"histogram2d\",\"colorbar\":{\"outlinewidth\":0,\"ticks\":\"\"},\"colorscale\":[[0.0,\"#0d0887\"],[0.1111111111111111,\"#46039f\"],[0.2222222222222222,\"#7201a8\"],[0.3333333333333333,\"#9c179e\"],[0.4444444444444444,\"#bd3786\"],[0.5555555555555556,\"#d8576b\"],[0.6666666666666666,\"#ed7953\"],[0.7777777777777778,\"#fb9f3a\"],[0.8888888888888888,\"#fdca26\"],[1.0,\"#f0f921\"]]}],\"heatmap\":[{\"type\":\"heatmap\",\"colorbar\":{\"outlinewidth\":0,\"ticks\":\"\"},\"colorscale\":[[0.0,\"#0d0887\"],[0.1111111111111111,\"#46039f\"],[0.2222222222222222,\"#7201a8\"],[0.3333333333333333,\"#9c179e\"],[0.4444444444444444,\"#bd3786\"],[0.5555555555555556,\"#d8576b\"],[0.6666666666666666,\"#ed7953\"],[0.7777777777777778,\"#fb9f3a\"],[0.8888888888888888,\"#fdca26\"],[1.0,\"#f0f921\"]]}],\"heatmapgl\":[{\"type\":\"heatmapgl\",\"colorbar\":{\"outlinewidth\":0,\"ticks\":\"\"},\"colorscale\":[[0.0,\"#0d0887\"],[0.1111111111111111,\"#46039f\"],[0.2222222222222222,\"#7201a8\"],[0.3333333333333333,\"#9c179e\"],[0.4444444444444444,\"#bd3786\"],[0.5555555555555556,\"#d8576b\"],[0.6666666666666666,\"#ed7953\"],[0.7777777777777778,\"#fb9f3a\"],[0.8888888888888888,\"#fdca26\"],[1.0,\"#f0f921\"]]}],\"contourcarpet\":[{\"type\":\"contourcarpet\",\"colorbar\":{\"outlinewidth\":0,\"ticks\":\"\"}}],\"contour\":[{\"type\":\"contour\",\"colorbar\":{\"outlinewidth\":0,\"ticks\":\"\"},\"colorscale\":[[0.0,\"#0d0887\"],[0.1111111111111111,\"#46039f\"],[0.2222222222222222,\"#7201a8\"],[0.3333333333333333,\"#9c179e\"],[0.4444444444444444,\"#bd3786\"],[0.5555555555555556,\"#d8576b\"],[0.6666666666666666,\"#ed7953\"],[0.7777777777777778,\"#fb9f3a\"],[0.8888888888888888,\"#fdca26\"],[1.0,\"#f0f921\"]]}],\"surface\":[{\"type\":\"surface\",\"colorbar\":{\"outlinewidth\":0,\"ticks\":\"\"},\"colorscale\":[[0.0,\"#0d0887\"],[0.1111111111111111,\"#46039f\"],[0.2222222222222222,\"#7201a8\"],[0.3333333333333333,\"#9c179e\"],[0.4444444444444444,\"#bd3786\"],[0.5555555555555556,\"#d8576b\"],[0.6666666666666666,\"#ed7953\"],[0.7777777777777778,\"#fb9f3a\"],[0.8888888888888888,\"#fdca26\"],[1.0,\"#f0f921\"]]}],\"mesh3d\":[{\"type\":\"mesh3d\",\"colorbar\":{\"outlinewidth\":0,\"ticks\":\"\"}}],\"scatter\":[{\"fillpattern\":{\"fillmode\":\"overlay\",\"size\":10,\"solidity\":0.2},\"type\":\"scatter\"}],\"parcoords\":[{\"type\":\"parcoords\",\"line\":{\"colorbar\":{\"outlinewidth\":0,\"ticks\":\"\"}}}],\"scatterpolargl\":[{\"type\":\"scatterpolargl\",\"marker\":{\"colorbar\":{\"outlinewidth\":0,\"ticks\":\"\"}}}],\"bar\":[{\"error_x\":{\"color\":\"#2a3f5f\"},\"error_y\":{\"color\":\"#2a3f5f\"},\"marker\":{\"line\":{\"color\":\"#E5ECF6\",\"width\":0.5},\"pattern\":{\"fillmode\":\"overlay\",\"size\":10,\"solidity\":0.2}},\"type\":\"bar\"}],\"scattergeo\":[{\"type\":\"scattergeo\",\"marker\":{\"colorbar\":{\"outlinewidth\":0,\"ticks\":\"\"}}}],\"scatterpolar\":[{\"type\":\"scatterpolar\",\"marker\":{\"colorbar\":{\"outlinewidth\":0,\"ticks\":\"\"}}}],\"histogram\":[{\"marker\":{\"pattern\":{\"fillmode\":\"overlay\",\"size\":10,\"solidity\":0.2}},\"type\":\"histogram\"}],\"scattergl\":[{\"type\":\"scattergl\",\"marker\":{\"colorbar\":{\"outlinewidth\":0,\"ticks\":\"\"}}}],\"scatter3d\":[{\"type\":\"scatter3d\",\"line\":{\"colorbar\":{\"outlinewidth\":0,\"ticks\":\"\"}},\"marker\":{\"colorbar\":{\"outlinewidth\":0,\"ticks\":\"\"}}}],\"scattermapbox\":[{\"type\":\"scattermapbox\",\"marker\":{\"colorbar\":{\"outlinewidth\":0,\"ticks\":\"\"}}}],\"scatterternary\":[{\"type\":\"scatterternary\",\"marker\":{\"colorbar\":{\"outlinewidth\":0,\"ticks\":\"\"}}}],\"scattercarpet\":[{\"type\":\"scattercarpet\",\"marker\":{\"colorbar\":{\"outlinewidth\":0,\"ticks\":\"\"}}}],\"carpet\":[{\"aaxis\":{\"endlinecolor\":\"#2a3f5f\",\"gridcolor\":\"white\",\"linecolor\":\"white\",\"minorgridcolor\":\"white\",\"startlinecolor\":\"#2a3f5f\"},\"baxis\":{\"endlinecolor\":\"#2a3f5f\",\"gridcolor\":\"white\",\"linecolor\":\"white\",\"minorgridcolor\":\"white\",\"startlinecolor\":\"#2a3f5f\"},\"type\":\"carpet\"}],\"table\":[{\"cells\":{\"fill\":{\"color\":\"#EBF0F8\"},\"line\":{\"color\":\"white\"}},\"header\":{\"fill\":{\"color\":\"#C8D4E3\"},\"line\":{\"color\":\"white\"}},\"type\":\"table\"}],\"barpolar\":[{\"marker\":{\"line\":{\"color\":\"#E5ECF6\",\"width\":0.5},\"pattern\":{\"fillmode\":\"overlay\",\"size\":10,\"solidity\":0.2}},\"type\":\"barpolar\"}],\"pie\":[{\"automargin\":true,\"type\":\"pie\"}]},\"layout\":{\"autotypenumbers\":\"strict\",\"colorway\":[\"#636efa\",\"#EF553B\",\"#00cc96\",\"#ab63fa\",\"#FFA15A\",\"#19d3f3\",\"#FF6692\",\"#B6E880\",\"#FF97FF\",\"#FECB52\"],\"font\":{\"color\":\"#2a3f5f\"},\"hovermode\":\"closest\",\"hoverlabel\":{\"align\":\"left\"},\"paper_bgcolor\":\"white\",\"plot_bgcolor\":\"#E5ECF6\",\"polar\":{\"bgcolor\":\"#E5ECF6\",\"angularaxis\":{\"gridcolor\":\"white\",\"linecolor\":\"white\",\"ticks\":\"\"},\"radialaxis\":{\"gridcolor\":\"white\",\"linecolor\":\"white\",\"ticks\":\"\"}},\"ternary\":{\"bgcolor\":\"#E5ECF6\",\"aaxis\":{\"gridcolor\":\"white\",\"linecolor\":\"white\",\"ticks\":\"\"},\"baxis\":{\"gridcolor\":\"white\",\"linecolor\":\"white\",\"ticks\":\"\"},\"caxis\":{\"gridcolor\":\"white\",\"linecolor\":\"white\",\"ticks\":\"\"}},\"coloraxis\":{\"colorbar\":{\"outlinewidth\":0,\"ticks\":\"\"}},\"colorscale\":{\"sequential\":[[0.0,\"#0d0887\"],[0.1111111111111111,\"#46039f\"],[0.2222222222222222,\"#7201a8\"],[0.3333333333333333,\"#9c179e\"],[0.4444444444444444,\"#bd3786\"],[0.5555555555555556,\"#d8576b\"],[0.6666666666666666,\"#ed7953\"],[0.7777777777777778,\"#fb9f3a\"],[0.8888888888888888,\"#fdca26\"],[1.0,\"#f0f921\"]],\"sequentialminus\":[[0.0,\"#0d0887\"],[0.1111111111111111,\"#46039f\"],[0.2222222222222222,\"#7201a8\"],[0.3333333333333333,\"#9c179e\"],[0.4444444444444444,\"#bd3786\"],[0.5555555555555556,\"#d8576b\"],[0.6666666666666666,\"#ed7953\"],[0.7777777777777778,\"#fb9f3a\"],[0.8888888888888888,\"#fdca26\"],[1.0,\"#f0f921\"]],\"diverging\":[[0,\"#8e0152\"],[0.1,\"#c51b7d\"],[0.2,\"#de77ae\"],[0.3,\"#f1b6da\"],[0.4,\"#fde0ef\"],[0.5,\"#f7f7f7\"],[0.6,\"#e6f5d0\"],[0.7,\"#b8e186\"],[0.8,\"#7fbc41\"],[0.9,\"#4d9221\"],[1,\"#276419\"]]},\"xaxis\":{\"gridcolor\":\"white\",\"linecolor\":\"white\",\"ticks\":\"\",\"title\":{\"standoff\":15},\"zerolinecolor\":\"white\",\"automargin\":true,\"zerolinewidth\":2},\"yaxis\":{\"gridcolor\":\"white\",\"linecolor\":\"white\",\"ticks\":\"\",\"title\":{\"standoff\":15},\"zerolinecolor\":\"white\",\"automargin\":true,\"zerolinewidth\":2},\"scene\":{\"xaxis\":{\"backgroundcolor\":\"#E5ECF6\",\"gridcolor\":\"white\",\"linecolor\":\"white\",\"showbackground\":true,\"ticks\":\"\",\"zerolinecolor\":\"white\",\"gridwidth\":2},\"yaxis\":{\"backgroundcolor\":\"#E5ECF6\",\"gridcolor\":\"white\",\"linecolor\":\"white\",\"showbackground\":true,\"ticks\":\"\",\"zerolinecolor\":\"white\",\"gridwidth\":2},\"zaxis\":{\"backgroundcolor\":\"#E5ECF6\",\"gridcolor\":\"white\",\"linecolor\":\"white\",\"showbackground\":true,\"ticks\":\"\",\"zerolinecolor\":\"white\",\"gridwidth\":2}},\"shapedefaults\":{\"line\":{\"color\":\"#2a3f5f\"}},\"annotationdefaults\":{\"arrowcolor\":\"#2a3f5f\",\"arrowhead\":0,\"arrowwidth\":1},\"geo\":{\"bgcolor\":\"white\",\"landcolor\":\"#E5ECF6\",\"subunitcolor\":\"white\",\"showland\":true,\"showlakes\":true,\"lakecolor\":\"white\"},\"title\":{\"x\":0.05},\"mapbox\":{\"style\":\"light\"}}},\"xaxis\":{\"anchor\":\"y\",\"domain\":[0.0,1.0],\"title\":{\"text\":\"AdminRegion\"}},\"yaxis\":{\"anchor\":\"x\",\"domain\":[0.0,1.0],\"title\":{\"text\":\"value\"}},\"legend\":{\"title\":{\"text\":\"variable\"},\"tracegroupgap\":0},\"title\":{\"text\":\"Region\"},\"barmode\":\"relative\"},                        {\"responsive\": true}                    ).then(function(){\n",
       "                            \n",
       "var gd = document.getElementById('78a450e1-a9d8-406b-9b7c-671aae96e6d1');\n",
       "var x = new MutationObserver(function (mutations, observer) {{\n",
       "        var display = window.getComputedStyle(gd).display;\n",
       "        if (!display || display === 'none') {{\n",
       "            console.log([gd, 'removed!']);\n",
       "            Plotly.purge(gd);\n",
       "            observer.disconnect();\n",
       "        }}\n",
       "}});\n",
       "\n",
       "// Listen for the removal of the full notebook cells\n",
       "var notebookContainer = gd.closest('#notebook-container');\n",
       "if (notebookContainer) {{\n",
       "    x.observe(notebookContainer, {childList: true});\n",
       "}}\n",
       "\n",
       "// Listen for the clearing of the current output cell\n",
       "var outputEl = gd.closest('.output');\n",
       "if (outputEl) {{\n",
       "    x.observe(outputEl, {childList: true});\n",
       "}}\n",
       "\n",
       "                        })                };                });            </script>        </div>"
      ]
     },
     "metadata": {},
     "output_type": "display_data"
    }
   ],
   "source": [
    "fig2.show()"
   ]
  },
  {
   "cell_type": "code",
   "execution_count": null,
   "id": "8817376b-22b5-4d36-9779-70f8b06767e1",
   "metadata": {},
   "outputs": [],
   "source": []
  }
 ],
 "metadata": {
  "kernelspec": {
   "display_name": "Python 3 (ipykernel)",
   "language": "python",
   "name": "python3"
  },
  "language_info": {
   "codemirror_mode": {
    "name": "ipython",
    "version": 3
   },
   "file_extension": ".py",
   "mimetype": "text/x-python",
   "name": "python",
   "nbconvert_exporter": "python",
   "pygments_lexer": "ipython3",
   "version": "3.11.7"
  }
 },
 "nbformat": 4,
 "nbformat_minor": 5
}
